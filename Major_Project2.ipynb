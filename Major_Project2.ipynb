{
  "nbformat": 4,
  "nbformat_minor": 0,
  "metadata": {
    "colab": {
      "provenance": []
    },
    "kernelspec": {
      "name": "python3",
      "display_name": "Python 3"
    },
    "language_info": {
      "name": "python"
    }
  },
  "cells": [
    {
      "cell_type": "code",
      "execution_count": 1,
      "metadata": {
        "id": "okcpK-w2gpHv"
      },
      "outputs": [],
      "source": [
        "#Name-KARN GUPTA\n",
        "#College-GOVERNMENT COLLAGE OF ENGINEERING, NAGPUR\n",
        "#Branch-COMPUTER SCIENCE AND ENGINEERING\n",
        "#Year-2nd Year"
      ]
    },
    {
      "cell_type": "code",
      "source": [
        "#1.Take the data and create a dataframe\n",
        "#Dataset-/content/APY(Major Project2).csv\n",
        "import numpy as np\n",
        "import matplotlib.pyplot as plt\n",
        "import seaborn as sns\n",
        "import pandas as pd\n",
        "df=pd.read_csv('/content/APY(Major Project2).csv')\n",
        "df"
      ],
      "metadata": {
        "colab": {
          "base_uri": "https://localhost:8080/",
          "height": 423
        },
        "id": "fp4Qtc5mgtD0",
        "outputId": "bbe9bb3f-ba5d-4893-e8f5-543d1e12fb8d"
      },
      "execution_count": 2,
      "outputs": [
        {
          "output_type": "execute_result",
          "data": {
            "text/plain": [
              "                             State District       Crop  Crop_Year  \\\n",
              "0       Andaman and Nicobar Island  NICOBARS  Arecanut       2007   \n",
              "1       Andaman and Nicobar Island  NICOBARS  Arecanut       2007   \n",
              "2       Andaman and Nicobar Island  NICOBARS  Arecanut       2008   \n",
              "3       Andaman and Nicobar Island  NICOBARS  Arecanut       2008   \n",
              "4       Andaman and Nicobar Island  NICOBARS  Arecanut       2009   \n",
              "...                            ...       ...       ...        ...   \n",
              "345331                 West Bengal   PURULIA     Wheat       2015   \n",
              "345332                 West Bengal   PURULIA     Wheat       2016   \n",
              "345333                 West Bengal   PURULIA     Wheat       2017   \n",
              "345334                 West Bengal   PURULIA     Wheat       2018   \n",
              "345335                 West Bengal   PURULIA     Wheat       2019   \n",
              "\n",
              "             Season   Area   Production  Yield  \n",
              "0       Kharif       2439.6      3415.0   1.40  \n",
              "1       Rabi         1626.4      2277.0   1.40  \n",
              "2       Autumn       4147.0      3060.0   0.74  \n",
              "3       Summer       4147.0      2660.0   0.64  \n",
              "4       Autumn       4153.0      3120.0   0.75  \n",
              "...             ...     ...         ...    ...  \n",
              "345331  Rabi          855.0      1241.0   1.45  \n",
              "345332  Rabi         1366.0      2415.0   1.77  \n",
              "345333  Rabi         1052.0      2145.0   2.04  \n",
              "345334  Rabi          833.0      2114.0   2.54  \n",
              "345335  Rabi          516.0       931.0   1.80  \n",
              "\n",
              "[345336 rows x 8 columns]"
            ],
            "text/html": [
              "\n",
              "  <div id=\"df-1d0f7a7b-ffaa-4a64-9336-a5f64bb95690\">\n",
              "    <div class=\"colab-df-container\">\n",
              "      <div>\n",
              "<style scoped>\n",
              "    .dataframe tbody tr th:only-of-type {\n",
              "        vertical-align: middle;\n",
              "    }\n",
              "\n",
              "    .dataframe tbody tr th {\n",
              "        vertical-align: top;\n",
              "    }\n",
              "\n",
              "    .dataframe thead th {\n",
              "        text-align: right;\n",
              "    }\n",
              "</style>\n",
              "<table border=\"1\" class=\"dataframe\">\n",
              "  <thead>\n",
              "    <tr style=\"text-align: right;\">\n",
              "      <th></th>\n",
              "      <th>State</th>\n",
              "      <th>District</th>\n",
              "      <th>Crop</th>\n",
              "      <th>Crop_Year</th>\n",
              "      <th>Season</th>\n",
              "      <th>Area</th>\n",
              "      <th>Production</th>\n",
              "      <th>Yield</th>\n",
              "    </tr>\n",
              "  </thead>\n",
              "  <tbody>\n",
              "    <tr>\n",
              "      <th>0</th>\n",
              "      <td>Andaman and Nicobar Island</td>\n",
              "      <td>NICOBARS</td>\n",
              "      <td>Arecanut</td>\n",
              "      <td>2007</td>\n",
              "      <td>Kharif</td>\n",
              "      <td>2439.6</td>\n",
              "      <td>3415.0</td>\n",
              "      <td>1.40</td>\n",
              "    </tr>\n",
              "    <tr>\n",
              "      <th>1</th>\n",
              "      <td>Andaman and Nicobar Island</td>\n",
              "      <td>NICOBARS</td>\n",
              "      <td>Arecanut</td>\n",
              "      <td>2007</td>\n",
              "      <td>Rabi</td>\n",
              "      <td>1626.4</td>\n",
              "      <td>2277.0</td>\n",
              "      <td>1.40</td>\n",
              "    </tr>\n",
              "    <tr>\n",
              "      <th>2</th>\n",
              "      <td>Andaman and Nicobar Island</td>\n",
              "      <td>NICOBARS</td>\n",
              "      <td>Arecanut</td>\n",
              "      <td>2008</td>\n",
              "      <td>Autumn</td>\n",
              "      <td>4147.0</td>\n",
              "      <td>3060.0</td>\n",
              "      <td>0.74</td>\n",
              "    </tr>\n",
              "    <tr>\n",
              "      <th>3</th>\n",
              "      <td>Andaman and Nicobar Island</td>\n",
              "      <td>NICOBARS</td>\n",
              "      <td>Arecanut</td>\n",
              "      <td>2008</td>\n",
              "      <td>Summer</td>\n",
              "      <td>4147.0</td>\n",
              "      <td>2660.0</td>\n",
              "      <td>0.64</td>\n",
              "    </tr>\n",
              "    <tr>\n",
              "      <th>4</th>\n",
              "      <td>Andaman and Nicobar Island</td>\n",
              "      <td>NICOBARS</td>\n",
              "      <td>Arecanut</td>\n",
              "      <td>2009</td>\n",
              "      <td>Autumn</td>\n",
              "      <td>4153.0</td>\n",
              "      <td>3120.0</td>\n",
              "      <td>0.75</td>\n",
              "    </tr>\n",
              "    <tr>\n",
              "      <th>...</th>\n",
              "      <td>...</td>\n",
              "      <td>...</td>\n",
              "      <td>...</td>\n",
              "      <td>...</td>\n",
              "      <td>...</td>\n",
              "      <td>...</td>\n",
              "      <td>...</td>\n",
              "      <td>...</td>\n",
              "    </tr>\n",
              "    <tr>\n",
              "      <th>345331</th>\n",
              "      <td>West Bengal</td>\n",
              "      <td>PURULIA</td>\n",
              "      <td>Wheat</td>\n",
              "      <td>2015</td>\n",
              "      <td>Rabi</td>\n",
              "      <td>855.0</td>\n",
              "      <td>1241.0</td>\n",
              "      <td>1.45</td>\n",
              "    </tr>\n",
              "    <tr>\n",
              "      <th>345332</th>\n",
              "      <td>West Bengal</td>\n",
              "      <td>PURULIA</td>\n",
              "      <td>Wheat</td>\n",
              "      <td>2016</td>\n",
              "      <td>Rabi</td>\n",
              "      <td>1366.0</td>\n",
              "      <td>2415.0</td>\n",
              "      <td>1.77</td>\n",
              "    </tr>\n",
              "    <tr>\n",
              "      <th>345333</th>\n",
              "      <td>West Bengal</td>\n",
              "      <td>PURULIA</td>\n",
              "      <td>Wheat</td>\n",
              "      <td>2017</td>\n",
              "      <td>Rabi</td>\n",
              "      <td>1052.0</td>\n",
              "      <td>2145.0</td>\n",
              "      <td>2.04</td>\n",
              "    </tr>\n",
              "    <tr>\n",
              "      <th>345334</th>\n",
              "      <td>West Bengal</td>\n",
              "      <td>PURULIA</td>\n",
              "      <td>Wheat</td>\n",
              "      <td>2018</td>\n",
              "      <td>Rabi</td>\n",
              "      <td>833.0</td>\n",
              "      <td>2114.0</td>\n",
              "      <td>2.54</td>\n",
              "    </tr>\n",
              "    <tr>\n",
              "      <th>345335</th>\n",
              "      <td>West Bengal</td>\n",
              "      <td>PURULIA</td>\n",
              "      <td>Wheat</td>\n",
              "      <td>2019</td>\n",
              "      <td>Rabi</td>\n",
              "      <td>516.0</td>\n",
              "      <td>931.0</td>\n",
              "      <td>1.80</td>\n",
              "    </tr>\n",
              "  </tbody>\n",
              "</table>\n",
              "<p>345336 rows × 8 columns</p>\n",
              "</div>\n",
              "      <button class=\"colab-df-convert\" onclick=\"convertToInteractive('df-1d0f7a7b-ffaa-4a64-9336-a5f64bb95690')\"\n",
              "              title=\"Convert this dataframe to an interactive table.\"\n",
              "              style=\"display:none;\">\n",
              "        \n",
              "  <svg xmlns=\"http://www.w3.org/2000/svg\" height=\"24px\"viewBox=\"0 0 24 24\"\n",
              "       width=\"24px\">\n",
              "    <path d=\"M0 0h24v24H0V0z\" fill=\"none\"/>\n",
              "    <path d=\"M18.56 5.44l.94 2.06.94-2.06 2.06-.94-2.06-.94-.94-2.06-.94 2.06-2.06.94zm-11 1L8.5 8.5l.94-2.06 2.06-.94-2.06-.94L8.5 2.5l-.94 2.06-2.06.94zm10 10l.94 2.06.94-2.06 2.06-.94-2.06-.94-.94-2.06-.94 2.06-2.06.94z\"/><path d=\"M17.41 7.96l-1.37-1.37c-.4-.4-.92-.59-1.43-.59-.52 0-1.04.2-1.43.59L10.3 9.45l-7.72 7.72c-.78.78-.78 2.05 0 2.83L4 21.41c.39.39.9.59 1.41.59.51 0 1.02-.2 1.41-.59l7.78-7.78 2.81-2.81c.8-.78.8-2.07 0-2.86zM5.41 20L4 18.59l7.72-7.72 1.47 1.35L5.41 20z\"/>\n",
              "  </svg>\n",
              "      </button>\n",
              "      \n",
              "  <style>\n",
              "    .colab-df-container {\n",
              "      display:flex;\n",
              "      flex-wrap:wrap;\n",
              "      gap: 12px;\n",
              "    }\n",
              "\n",
              "    .colab-df-convert {\n",
              "      background-color: #E8F0FE;\n",
              "      border: none;\n",
              "      border-radius: 50%;\n",
              "      cursor: pointer;\n",
              "      display: none;\n",
              "      fill: #1967D2;\n",
              "      height: 32px;\n",
              "      padding: 0 0 0 0;\n",
              "      width: 32px;\n",
              "    }\n",
              "\n",
              "    .colab-df-convert:hover {\n",
              "      background-color: #E2EBFA;\n",
              "      box-shadow: 0px 1px 2px rgba(60, 64, 67, 0.3), 0px 1px 3px 1px rgba(60, 64, 67, 0.15);\n",
              "      fill: #174EA6;\n",
              "    }\n",
              "\n",
              "    [theme=dark] .colab-df-convert {\n",
              "      background-color: #3B4455;\n",
              "      fill: #D2E3FC;\n",
              "    }\n",
              "\n",
              "    [theme=dark] .colab-df-convert:hover {\n",
              "      background-color: #434B5C;\n",
              "      box-shadow: 0px 1px 3px 1px rgba(0, 0, 0, 0.15);\n",
              "      filter: drop-shadow(0px 1px 2px rgba(0, 0, 0, 0.3));\n",
              "      fill: #FFFFFF;\n",
              "    }\n",
              "  </style>\n",
              "\n",
              "      <script>\n",
              "        const buttonEl =\n",
              "          document.querySelector('#df-1d0f7a7b-ffaa-4a64-9336-a5f64bb95690 button.colab-df-convert');\n",
              "        buttonEl.style.display =\n",
              "          google.colab.kernel.accessAllowed ? 'block' : 'none';\n",
              "\n",
              "        async function convertToInteractive(key) {\n",
              "          const element = document.querySelector('#df-1d0f7a7b-ffaa-4a64-9336-a5f64bb95690');\n",
              "          const dataTable =\n",
              "            await google.colab.kernel.invokeFunction('convertToInteractive',\n",
              "                                                     [key], {});\n",
              "          if (!dataTable) return;\n",
              "\n",
              "          const docLinkHtml = 'Like what you see? Visit the ' +\n",
              "            '<a target=\"_blank\" href=https://colab.research.google.com/notebooks/data_table.ipynb>data table notebook</a>'\n",
              "            + ' to learn more about interactive tables.';\n",
              "          element.innerHTML = '';\n",
              "          dataTable['output_type'] = 'display_data';\n",
              "          await google.colab.output.renderOutput(dataTable, element);\n",
              "          const docLink = document.createElement('div');\n",
              "          docLink.innerHTML = docLinkHtml;\n",
              "          element.appendChild(docLink);\n",
              "        }\n",
              "      </script>\n",
              "    </div>\n",
              "  </div>\n",
              "  "
            ]
          },
          "metadata": {},
          "execution_count": 2
        }
      ]
    },
    {
      "cell_type": "code",
      "source": [
        "df.shape#Number of rows and columns"
      ],
      "metadata": {
        "colab": {
          "base_uri": "https://localhost:8080/"
        },
        "id": "0oAIPHyQgtGa",
        "outputId": "36124585-9e67-4692-dc03-204c5d9e4fbc"
      },
      "execution_count": 3,
      "outputs": [
        {
          "output_type": "execute_result",
          "data": {
            "text/plain": [
              "(345336, 8)"
            ]
          },
          "metadata": {},
          "execution_count": 3
        }
      ]
    },
    {
      "cell_type": "code",
      "source": [
        "df.size#Number of elements in the dataset"
      ],
      "metadata": {
        "colab": {
          "base_uri": "https://localhost:8080/"
        },
        "id": "CiXdixU6gtK0",
        "outputId": "5a34401f-1b2c-499c-aae0-d7a781c3ac0b"
      },
      "execution_count": 4,
      "outputs": [
        {
          "output_type": "execute_result",
          "data": {
            "text/plain": [
              "2762688"
            ]
          },
          "metadata": {},
          "execution_count": 4
        }
      ]
    },
    {
      "cell_type": "code",
      "source": [
        "df.info()#Gives The information of the dataset"
      ],
      "metadata": {
        "colab": {
          "base_uri": "https://localhost:8080/"
        },
        "id": "IGhF1twYgtQD",
        "outputId": "9907d3d8-1b25-4602-8706-11b471fb9e26"
      },
      "execution_count": 5,
      "outputs": [
        {
          "output_type": "stream",
          "name": "stdout",
          "text": [
            "<class 'pandas.core.frame.DataFrame'>\n",
            "RangeIndex: 345336 entries, 0 to 345335\n",
            "Data columns (total 8 columns):\n",
            " #   Column      Non-Null Count   Dtype  \n",
            "---  ------      --------------   -----  \n",
            " 0   State       345336 non-null  object \n",
            " 1   District    345336 non-null  object \n",
            " 2   Crop        345327 non-null  object \n",
            " 3   Crop_Year   345336 non-null  int64  \n",
            " 4   Season      345336 non-null  object \n",
            " 5   Area        345336 non-null  float64\n",
            " 6   Production  340388 non-null  float64\n",
            " 7   Yield       345336 non-null  float64\n",
            "dtypes: float64(3), int64(1), object(4)\n",
            "memory usage: 21.1+ MB\n"
          ]
        }
      ]
    },
    {
      "cell_type": "code",
      "source": [
        "df.State.unique()"
      ],
      "metadata": {
        "colab": {
          "base_uri": "https://localhost:8080/"
        },
        "id": "BbhScND1OG3R",
        "outputId": "40b6cb93-393a-4972-c01f-08a9e16aaf40"
      },
      "execution_count": 6,
      "outputs": [
        {
          "output_type": "execute_result",
          "data": {
            "text/plain": [
              "array(['Andaman and Nicobar Island', 'Andhra Pradesh',\n",
              "       'Arunachal Pradesh', 'Assam', 'Bihar', 'CHANDIGARH',\n",
              "       'Chhattisgarh', 'Dadra and Nagar Haveli', 'Daman and Diu', 'Delhi',\n",
              "       'Goa', 'Gujarat', 'Haryana', 'Himachal Pradesh',\n",
              "       'Jammu and Kashmir', 'Jharkhand', 'Karnataka', 'Kerala', 'Laddak',\n",
              "       'Madhya Pradesh', 'Maharashtra', 'Manipur', 'Meghalaya', 'Mizoram',\n",
              "       'Nagaland', 'Odisha', 'Puducherry', 'Punjab', 'Rajasthan',\n",
              "       'Sikkim', 'Tamil Nadu', 'Telangana', 'THE DADRA AND NAGAR HAVELI',\n",
              "       'Tripura', 'Uttar Pradesh', 'Uttarakhand', 'West Bengal'],\n",
              "      dtype=object)"
            ]
          },
          "metadata": {},
          "execution_count": 6
        }
      ]
    },
    {
      "cell_type": "code",
      "source": [
        "df.State.nunique()"
      ],
      "metadata": {
        "colab": {
          "base_uri": "https://localhost:8080/"
        },
        "id": "gVkc5eZmSbXS",
        "outputId": "5de851db-7c00-4dfc-dbe5-b552d8e5b291"
      },
      "execution_count": 7,
      "outputs": [
        {
          "output_type": "execute_result",
          "data": {
            "text/plain": [
              "37"
            ]
          },
          "metadata": {},
          "execution_count": 7
        }
      ]
    },
    {
      "cell_type": "code",
      "source": [
        "df.groupby('State').size()"
      ],
      "metadata": {
        "colab": {
          "base_uri": "https://localhost:8080/"
        },
        "id": "7tEsQIl6UHmW",
        "outputId": "eea1a5cf-7dc4-482b-f664-9d70999602d7"
      },
      "execution_count": 8,
      "outputs": [
        {
          "output_type": "execute_result",
          "data": {
            "text/plain": [
              "State\n",
              "Andaman and Nicobar Island      724\n",
              "Andhra Pradesh                16363\n",
              "Arunachal Pradesh              4345\n",
              "Assam                         18186\n",
              "Bihar                         24697\n",
              "CHANDIGARH                      124\n",
              "Chhattisgarh                  15285\n",
              "Dadra and Nagar Haveli           82\n",
              "Daman and Diu                    42\n",
              "Delhi                           203\n",
              "Goa                             393\n",
              "Gujarat                       14053\n",
              "Haryana                        8305\n",
              "Himachal Pradesh               5043\n",
              "Jammu and Kashmir              4175\n",
              "Jharkhand                      5004\n",
              "Karnataka                     27493\n",
              "Kerala                         4870\n",
              "Laddak                          174\n",
              "Madhya Pradesh                29906\n",
              "Maharashtra                   17922\n",
              "Manipur                        3093\n",
              "Meghalaya                      4322\n",
              "Mizoram                        2102\n",
              "Nagaland                       5676\n",
              "Odisha                        16153\n",
              "Puducherry                     1127\n",
              "Punjab                         4142\n",
              "Rajasthan                     20363\n",
              "Sikkim                          876\n",
              "THE DADRA AND NAGAR HAVELI      266\n",
              "Tamil Nadu                    18507\n",
              "Telangana                      4684\n",
              "Tripura                        2557\n",
              "Uttar Pradesh                 44781\n",
              "Uttarakhand                    6702\n",
              "West Bengal                   12596\n",
              "dtype: int64"
            ]
          },
          "metadata": {},
          "execution_count": 8
        }
      ]
    },
    {
      "cell_type": "code",
      "source": [
        "df.nunique()"
      ],
      "metadata": {
        "colab": {
          "base_uri": "https://localhost:8080/"
        },
        "id": "PuFnc7u2VsEH",
        "outputId": "16fb69d9-ca0f-4eeb-bb03-7a9d80de434d"
      },
      "execution_count": 9,
      "outputs": [
        {
          "output_type": "execute_result",
          "data": {
            "text/plain": [
              "State            37\n",
              "District        707\n",
              "Crop             55\n",
              "Crop_Year        24\n",
              "Season            6\n",
              "Area          47712\n",
              "Production    60410\n",
              "Yield         10595\n",
              "dtype: int64"
            ]
          },
          "metadata": {},
          "execution_count": 9
        }
      ]
    },
    {
      "cell_type": "code",
      "source": [
        "df.groupby('Season').size()"
      ],
      "metadata": {
        "colab": {
          "base_uri": "https://localhost:8080/"
        },
        "id": "hn3ugVZZVsG9",
        "outputId": "fe7097bf-2d29-4c4e-fe12-56102db02d57"
      },
      "execution_count": 10,
      "outputs": [
        {
          "output_type": "execute_result",
          "data": {
            "text/plain": [
              "Season\n",
              "Autumn           6989\n",
              "Kharif         138369\n",
              "Rabi           100951\n",
              "Summer          22098\n",
              "Whole Year      68680\n",
              "Winter           8249\n",
              "dtype: int64"
            ]
          },
          "metadata": {},
          "execution_count": 10
        }
      ]
    },
    {
      "cell_type": "code",
      "source": [
        "df.groupby(['State','Crop']).size()"
      ],
      "metadata": {
        "colab": {
          "base_uri": "https://localhost:8080/"
        },
        "id": "qFESXe5AVsKq",
        "outputId": "65de27f9-ff9b-4ac4-d56b-125391445c69"
      },
      "execution_count": 11,
      "outputs": [
        {
          "output_type": "execute_result",
          "data": {
            "text/plain": [
              "State                       Crop        \n",
              "Andaman and Nicobar Island  Arecanut         51\n",
              "                            Arhar/Tur        15\n",
              "                            Banana           49\n",
              "                            Black pepper     47\n",
              "                            Cashewnut        45\n",
              "                                           ... \n",
              "West Bengal                 Sunflower       289\n",
              "                            Tobacco          99\n",
              "                            Turmeric        216\n",
              "                            Urad            650\n",
              "                            Wheat           425\n",
              "Length: 1130, dtype: int64"
            ]
          },
          "metadata": {},
          "execution_count": 11
        }
      ]
    },
    {
      "cell_type": "code",
      "source": [
        "df.groupby(['Crop_Year','Season']).size()"
      ],
      "metadata": {
        "colab": {
          "base_uri": "https://localhost:8080/"
        },
        "id": "VKK35mIkVsR9",
        "outputId": "321e9cd8-647b-41da-e1f6-6ffa37d6f05c"
      },
      "execution_count": 12,
      "outputs": [
        {
          "output_type": "execute_result",
          "data": {
            "text/plain": [
              "Crop_Year  Season     \n",
              "1997       Autumn          249\n",
              "           Kharif         3411\n",
              "           Rabi           2340\n",
              "           Summer          645\n",
              "           Whole Year     1615\n",
              "                          ... \n",
              "2019       Winter          440\n",
              "2020       Kharif          152\n",
              "           Rabi            100\n",
              "           Summer           13\n",
              "           Whole Year       54\n",
              "Length: 142, dtype: int64"
            ]
          },
          "metadata": {},
          "execution_count": 12
        }
      ]
    },
    {
      "cell_type": "code",
      "source": [
        "Crop_Year=df['Crop_Year'].values\n",
        "x=df['Production'].values\n",
        "y=df['Yield'].values"
      ],
      "metadata": {
        "id": "4wCyMLe9VsUa"
      },
      "execution_count": 13,
      "outputs": []
    },
    {
      "cell_type": "code",
      "source": [
        "#Normalisation\n",
        "x_min = min(x)\n",
        "x_max = max(x)\n",
        "y_min = min(y)\n",
        "y_max = max(y)\n",
        "x_norm = (x-x_min)/(x_max-x_min)\n",
        "y_norm = (y-y_min)/(y_max-y_min)"
      ],
      "metadata": {
        "id": "4koG8hMSeTMT"
      },
      "execution_count": 14,
      "outputs": []
    },
    {
      "cell_type": "code",
      "source": [
        "plt.scatter(x_norm,y_norm)\n",
        "plt.xlabel('Production')\n",
        "plt.ylabel('yield')\n",
        "plt.grid()"
      ],
      "metadata": {
        "colab": {
          "base_uri": "https://localhost:8080/",
          "height": 279
        },
        "id": "k9LrStpcVsWV",
        "outputId": "e2904098-89bf-4e00-bc15-d817f75662b5"
      },
      "execution_count": 15,
      "outputs": [
        {
          "output_type": "display_data",
          "data": {
            "text/plain": [
              "<Figure size 432x288 with 1 Axes>"
            ],
            "image/png": "[encoded data removed]"
          },
          "metadata": {
            "needs_background": "light"
          }
        }
      ]
    },
    {
      "cell_type": "code",
      "source": [
        "plt.scatter(Crop_Year,x)\n",
        "plt.xlabel('Crop_Year')\n",
        "plt.ylabel('Production')\n",
        "plt.grid()"
      ],
      "metadata": {
        "colab": {
          "base_uri": "https://localhost:8080/",
          "height": 291
        },
        "id": "B2oIahxzVsYa",
        "outputId": "8e4165b1-e105-405f-ccb5-d9959f120dc1"
      },
      "execution_count": 16,
      "outputs": [
        {
          "output_type": "display_data",
          "data": {
            "text/plain": [
              "<Figure size 432x288 with 1 Axes>"
            ],
            "image/png": "[encoded data removed]"
          },
          "metadata": {
            "needs_background": "light"
          }
        }
      ]
    },
    {
      "cell_type": "code",
      "source": [
        "plt.scatter(Crop_Year,y)\n",
        "plt.xlabel('Crop_Year')\n",
        "plt.ylabel('Yield')\n",
        "plt.grid()"
      ],
      "metadata": {
        "colab": {
          "base_uri": "https://localhost:8080/",
          "height": 280
        },
        "id": "UOVeYxDFVsbA",
        "outputId": "af23cd4b-4390-4aa2-c787-1ed77a1c7150"
      },
      "execution_count": 17,
      "outputs": [
        {
          "output_type": "display_data",
          "data": {
            "text/plain": [
              "<Figure size 432x288 with 1 Axes>"
            ],
            "image/png": "[encoded data removed]"
          },
          "metadata": {
            "needs_background": "light"
          }
        }
      ]
    },
    {
      "cell_type": "code",
      "source": [
        "sns.countplot(x='Season',data=df)"
      ],
      "metadata": {
        "colab": {
          "base_uri": "https://localhost:8080/",
          "height": 296
        },
        "id": "WAZ_uU0wUHoR",
        "outputId": "fdd1ebf4-d0b4-4cce-cf43-1fd712805884"
      },
      "execution_count": 18,
      "outputs": [
        {
          "output_type": "execute_result",
          "data": {
            "text/plain": [
              "<Axes: xlabel='Season', ylabel='count'>"
            ]
          },
          "metadata": {},
          "execution_count": 18
        },
        {
          "output_type": "display_data",
          "data": {
            "text/plain": [
              "<Figure size 432x288 with 1 Axes>"
            ],
            "image/png": "[encoded data removed]"
          },
          "metadata": {
            "needs_background": "light"
          }
        }
      ]
    },
    {
      "cell_type": "code",
      "source": [
        "df['Crop'].unique()"
      ],
      "metadata": {
        "colab": {
          "base_uri": "https://localhost:8080/"
        },
        "id": "uKaoUhk2SbZ8",
        "outputId": "391fe487-36ad-40a6-e83a-a9eefe7cb8b0"
      },
      "execution_count": 19,
      "outputs": [
        {
          "output_type": "execute_result",
          "data": {
            "text/plain": [
              "array(['Arecanut', 'Arhar/Tur', 'Banana', 'Black pepper', 'Cashewnut',\n",
              "       'Coconut ', 'Cowpea(Lobia)', 'Dry chillies', 'Ginger', 'Groundnut',\n",
              "       'Maize', 'Moong(Green Gram)', 'Oilseeds total',\n",
              "       'Other Kharif pulses', 'other oilseeds', 'Rapeseed &Mustard',\n",
              "       'Rice', 'Sesamum', 'Sugarcane', 'Sunflower', 'Sweet potato',\n",
              "       'Tapioca', 'Turmeric', 'Urad', 'Bajra', 'Castor seed', 'Coriander',\n",
              "       'Cotton(lint)', 'Garlic', 'Gram', 'Guar seed', 'Horse-gram',\n",
              "       'Jowar', 'Linseed', 'Masoor', 'Mesta', 'Niger seed', 'Onion',\n",
              "       'Other  Rabi pulses', 'Potato', 'Ragi', 'Safflower', 'Sannhamp',\n",
              "       'Small millets', 'Soyabean', 'Tobacco', 'Wheat',\n",
              "       'Peas & beans (Pulses)', 'Jute', 'Barley', 'Khesari', 'Moth',\n",
              "       'Other Cereals', 'Cardamom', 'Other Summer Pulses', nan],\n",
              "      dtype=object)"
            ]
          },
          "metadata": {},
          "execution_count": 19
        }
      ]
    }
  ]
}