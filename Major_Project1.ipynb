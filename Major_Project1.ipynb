{
  "nbformat": 4,
  "nbformat_minor": 0,
  "metadata": {
    "colab": {
      "provenance": []
    },
    "kernelspec": {
      "name": "python3",
      "display_name": "Python 3"
    },
    "language_info": {
      "name": "python"
    }
  },
  "cells": [
    {
      "cell_type": "code",
      "execution_count": null,
      "metadata": {
        "id": "o0EjR5-BsjBJ"
      },
      "outputs": [],
      "source": [
        "#Name-KARN GUPTA\n",
        "#College-GOVERNMENT COLLAGE OF ENGINEERING, NAGPUR\n",
        "#Branch-COMPUTER SCIENCE AND ENGINEERING\n",
        "#Year-2nd Year"
      ]
    },
    {
      "cell_type": "code",
      "source": [
        "#1.Take the data and create a dataframe\n",
        "#Dataset-https://raw.githubusercontent.com/ameenmanna8824/DATASETS/main/heart_disease.csv\n",
        "import numpy as np\n",
        "import matplotlib.pyplot as plt\n",
        "import seaborn as sns\n",
        "import pandas as pd\n",
        "df=pd.read_csv('https://raw.githubusercontent.com/ameenmanna8824/DATASETS/main/heart_disease.csv')\n",
        "df"
      ],
      "metadata": {
        "colab": {
          "base_uri": "https://localhost:8080/",
          "height": 423
        },
        "id": "RQ0gutnytL7E",
        "outputId": "c9246d6c-76b5-4252-d3f1-3f69c55dd4ef"
      },
      "execution_count": 73,
      "outputs": [
        {
          "output_type": "execute_result",
          "data": {
            "text/plain": [
              "     Unnamed: 0  age  sex  cp  trestbps  chol  fbs  restecg  thalach  exang  \\\n",
              "0             0   63    1   3       145   233    1        0      150      0   \n",
              "1             1   37    1   2       130   250    0        1      187      0   \n",
              "2             2   41    0   1       130   204    0        0      172      0   \n",
              "3             3   56    1   1       120   236    0        1      178      0   \n",
              "4             4   57    0   0       120   354    0        1      163      1   \n",
              "..          ...  ...  ...  ..       ...   ...  ...      ...      ...    ...   \n",
              "298         298   57    0   0       140   241    0        1      123      1   \n",
              "299         299   45    1   3       110   264    0        1      132      0   \n",
              "300         300   68    1   0       144   193    1        1      141      0   \n",
              "301         301   57    1   0       130   131    0        1      115      1   \n",
              "302         302   57    0   1       130   236    0        0      174      0   \n",
              "\n",
              "     oldpeak  slope  ca  thal  target  \n",
              "0        2.3      0   0     1       1  \n",
              "1        3.5      0   0     2       1  \n",
              "2        1.4      2   0     2       1  \n",
              "3        0.8      2   0     2       1  \n",
              "4        0.6      2   0     2       1  \n",
              "..       ...    ...  ..   ...     ...  \n",
              "298      0.2      1   0     3       0  \n",
              "299      1.2      1   0     3       0  \n",
              "300      3.4      1   2     3       0  \n",
              "301      1.2      1   1     3       0  \n",
              "302      0.0      1   1     2       0  \n",
              "\n",
              "[303 rows x 15 columns]"
            ],
            "text/html": [
              "\n",
              "  <div id=\"df-669fe062-1bd2-4828-95ed-7b34f808635c\">\n",
              "    <div class=\"colab-df-container\">\n",
              "      <div>\n",
              "<style scoped>\n",
              "    .dataframe tbody tr th:only-of-type {\n",
              "        vertical-align: middle;\n",
              "    }\n",
              "\n",
              "    .dataframe tbody tr th {\n",
              "        vertical-align: top;\n",
              "    }\n",
              "\n",
              "    .dataframe thead th {\n",
              "        text-align: right;\n",
              "    }\n",
              "</style>\n",
              "<table border=\"1\" class=\"dataframe\">\n",
              "  <thead>\n",
              "    <tr style=\"text-align: right;\">\n",
              "      <th></th>\n",
              "      <th>Unnamed: 0</th>\n",
              "      <th>age</th>\n",
              "      <th>sex</th>\n",
              "      <th>cp</th>\n",
              "      <th>trestbps</th>\n",
              "      <th>chol</th>\n",
              "      <th>fbs</th>\n",
              "      <th>restecg</th>\n",
              "      <th>thalach</th>\n",
              "      <th>exang</th>\n",
              "      <th>oldpeak</th>\n",
              "      <th>slope</th>\n",
              "      <th>ca</th>\n",
              "      <th>thal</th>\n",
              "      <th>target</th>\n",
              "    </tr>\n",
              "  </thead>\n",
              "  <tbody>\n",
              "    <tr>\n",
              "      <th>0</th>\n",
              "      <td>0</td>\n",
              "      <td>63</td>\n",
              "      <td>1</td>\n",
              "      <td>3</td>\n",
              "      <td>145</td>\n",
              "      <td>233</td>\n",
              "      <td>1</td>\n",
              "      <td>0</td>\n",
              "      <td>150</td>\n",
              "      <td>0</td>\n",
              "      <td>2.3</td>\n",
              "      <td>0</td>\n",
              "      <td>0</td>\n",
              "      <td>1</td>\n",
              "      <td>1</td>\n",
              "    </tr>\n",
              "    <tr>\n",
              "      <th>1</th>\n",
              "      <td>1</td>\n",
              "      <td>37</td>\n",
              "      <td>1</td>\n",
              "      <td>2</td>\n",
              "      <td>130</td>\n",
              "      <td>250</td>\n",
              "      <td>0</td>\n",
              "      <td>1</td>\n",
              "      <td>187</td>\n",
              "      <td>0</td>\n",
              "      <td>3.5</td>\n",
              "      <td>0</td>\n",
              "      <td>0</td>\n",
              "      <td>2</td>\n",
              "      <td>1</td>\n",
              "    </tr>\n",
              "    <tr>\n",
              "      <th>2</th>\n",
              "      <td>2</td>\n",
              "      <td>41</td>\n",
              "      <td>0</td>\n",
              "      <td>1</td>\n",
              "      <td>130</td>\n",
              "      <td>204</td>\n",
              "      <td>0</td>\n",
              "      <td>0</td>\n",
              "      <td>172</td>\n",
              "      <td>0</td>\n",
              "      <td>1.4</td>\n",
              "      <td>2</td>\n",
              "      <td>0</td>\n",
              "      <td>2</td>\n",
              "      <td>1</td>\n",
              "    </tr>\n",
              "    <tr>\n",
              "      <th>3</th>\n",
              "      <td>3</td>\n",
              "      <td>56</td>\n",
              "      <td>1</td>\n",
              "      <td>1</td>\n",
              "      <td>120</td>\n",
              "      <td>236</td>\n",
              "      <td>0</td>\n",
              "      <td>1</td>\n",
              "      <td>178</td>\n",
              "      <td>0</td>\n",
              "      <td>0.8</td>\n",
              "      <td>2</td>\n",
              "      <td>0</td>\n",
              "      <td>2</td>\n",
              "      <td>1</td>\n",
              "    </tr>\n",
              "    <tr>\n",
              "      <th>4</th>\n",
              "      <td>4</td>\n",
              "      <td>57</td>\n",
              "      <td>0</td>\n",
              "      <td>0</td>\n",
              "      <td>120</td>\n",
              "      <td>354</td>\n",
              "      <td>0</td>\n",
              "      <td>1</td>\n",
              "      <td>163</td>\n",
              "      <td>1</td>\n",
              "      <td>0.6</td>\n",
              "      <td>2</td>\n",
              "      <td>0</td>\n",
              "      <td>2</td>\n",
              "      <td>1</td>\n",
              "    </tr>\n",
              "    <tr>\n",
              "      <th>...</th>\n",
              "      <td>...</td>\n",
              "      <td>...</td>\n",
              "      <td>...</td>\n",
              "      <td>...</td>\n",
              "      <td>...</td>\n",
              "      <td>...</td>\n",
              "      <td>...</td>\n",
              "      <td>...</td>\n",
              "      <td>...</td>\n",
              "      <td>...</td>\n",
              "      <td>...</td>\n",
              "      <td>...</td>\n",
              "      <td>...</td>\n",
              "      <td>...</td>\n",
              "      <td>...</td>\n",
              "    </tr>\n",
              "    <tr>\n",
              "      <th>298</th>\n",
              "      <td>298</td>\n",
              "      <td>57</td>\n",
              "      <td>0</td>\n",
              "      <td>0</td>\n",
              "      <td>140</td>\n",
              "      <td>241</td>\n",
              "      <td>0</td>\n",
              "      <td>1</td>\n",
              "      <td>123</td>\n",
              "      <td>1</td>\n",
              "      <td>0.2</td>\n",
              "      <td>1</td>\n",
              "      <td>0</td>\n",
              "      <td>3</td>\n",
              "      <td>0</td>\n",
              "    </tr>\n",
              "    <tr>\n",
              "      <th>299</th>\n",
              "      <td>299</td>\n",
              "      <td>45</td>\n",
              "      <td>1</td>\n",
              "      <td>3</td>\n",
              "      <td>110</td>\n",
              "      <td>264</td>\n",
              "      <td>0</td>\n",
              "      <td>1</td>\n",
              "      <td>132</td>\n",
              "      <td>0</td>\n",
              "      <td>1.2</td>\n",
              "      <td>1</td>\n",
              "      <td>0</td>\n",
              "      <td>3</td>\n",
              "      <td>0</td>\n",
              "    </tr>\n",
              "    <tr>\n",
              "      <th>300</th>\n",
              "      <td>300</td>\n",
              "      <td>68</td>\n",
              "      <td>1</td>\n",
              "      <td>0</td>\n",
              "      <td>144</td>\n",
              "      <td>193</td>\n",
              "      <td>1</td>\n",
              "      <td>1</td>\n",
              "      <td>141</td>\n",
              "      <td>0</td>\n",
              "      <td>3.4</td>\n",
              "      <td>1</td>\n",
              "      <td>2</td>\n",
              "      <td>3</td>\n",
              "      <td>0</td>\n",
              "    </tr>\n",
              "    <tr>\n",
              "      <th>301</th>\n",
              "      <td>301</td>\n",
              "      <td>57</td>\n",
              "      <td>1</td>\n",
              "      <td>0</td>\n",
              "      <td>130</td>\n",
              "      <td>131</td>\n",
              "      <td>0</td>\n",
              "      <td>1</td>\n",
              "      <td>115</td>\n",
              "      <td>1</td>\n",
              "      <td>1.2</td>\n",
              "      <td>1</td>\n",
              "      <td>1</td>\n",
              "      <td>3</td>\n",
              "      <td>0</td>\n",
              "    </tr>\n",
              "    <tr>\n",
              "      <th>302</th>\n",
              "      <td>302</td>\n",
              "      <td>57</td>\n",
              "      <td>0</td>\n",
              "      <td>1</td>\n",
              "      <td>130</td>\n",
              "      <td>236</td>\n",
              "      <td>0</td>\n",
              "      <td>0</td>\n",
              "      <td>174</td>\n",
              "      <td>0</td>\n",
              "      <td>0.0</td>\n",
              "      <td>1</td>\n",
              "      <td>1</td>\n",
              "      <td>2</td>\n",
              "      <td>0</td>\n",
              "    </tr>\n",
              "  </tbody>\n",
              "</table>\n",
              "<p>303 rows × 15 columns</p>\n",
              "</div>\n",
              "      <button class=\"colab-df-convert\" onclick=\"convertToInteractive('df-669fe062-1bd2-4828-95ed-7b34f808635c')\"\n",
              "              title=\"Convert this dataframe to an interactive table.\"\n",
              "              style=\"display:none;\">\n",
              "        \n",
              "  <svg xmlns=\"http://www.w3.org/2000/svg\" height=\"24px\"viewBox=\"0 0 24 24\"\n",
              "       width=\"24px\">\n",
              "    <path d=\"M0 0h24v24H0V0z\" fill=\"none\"/>\n",
              "    <path d=\"M18.56 5.44l.94 2.06.94-2.06 2.06-.94-2.06-.94-.94-2.06-.94 2.06-2.06.94zm-11 1L8.5 8.5l.94-2.06 2.06-.94-2.06-.94L8.5 2.5l-.94 2.06-2.06.94zm10 10l.94 2.06.94-2.06 2.06-.94-2.06-.94-.94-2.06-.94 2.06-2.06.94z\"/><path d=\"M17.41 7.96l-1.37-1.37c-.4-.4-.92-.59-1.43-.59-.52 0-1.04.2-1.43.59L10.3 9.45l-7.72 7.72c-.78.78-.78 2.05 0 2.83L4 21.41c.39.39.9.59 1.41.59.51 0 1.02-.2 1.41-.59l7.78-7.78 2.81-2.81c.8-.78.8-2.07 0-2.86zM5.41 20L4 18.59l7.72-7.72 1.47 1.35L5.41 20z\"/>\n",
              "  </svg>\n",
              "      </button>\n",
              "      \n",
              "  <style>\n",
              "    .colab-df-container {\n",
              "      display:flex;\n",
              "      flex-wrap:wrap;\n",
              "      gap: 12px;\n",
              "    }\n",
              "\n",
              "    .colab-df-convert {\n",
              "      background-color: #E8F0FE;\n",
              "      border: none;\n",
              "      border-radius: 50%;\n",
              "      cursor: pointer;\n",
              "      display: none;\n",
              "      fill: #1967D2;\n",
              "      height: 32px;\n",
              "      padding: 0 0 0 0;\n",
              "      width: 32px;\n",
              "    }\n",
              "\n",
              "    .colab-df-convert:hover {\n",
              "      background-color: #E2EBFA;\n",
              "      box-shadow: 0px 1px 2px rgba(60, 64, 67, 0.3), 0px 1px 3px 1px rgba(60, 64, 67, 0.15);\n",
              "      fill: #174EA6;\n",
              "    }\n",
              "\n",
              "    [theme=dark] .colab-df-convert {\n",
              "      background-color: #3B4455;\n",
              "      fill: #D2E3FC;\n",
              "    }\n",
              "\n",
              "    [theme=dark] .colab-df-convert:hover {\n",
              "      background-color: #434B5C;\n",
              "      box-shadow: 0px 1px 3px 1px rgba(0, 0, 0, 0.15);\n",
              "      filter: drop-shadow(0px 1px 2px rgba(0, 0, 0, 0.3));\n",
              "      fill: #FFFFFF;\n",
              "    }\n",
              "  </style>\n",
              "\n",
              "      <script>\n",
              "        const buttonEl =\n",
              "          document.querySelector('#df-669fe062-1bd2-4828-95ed-7b34f808635c button.colab-df-convert');\n",
              "        buttonEl.style.display =\n",
              "          google.colab.kernel.accessAllowed ? 'block' : 'none';\n",
              "\n",
              "        async function convertToInteractive(key) {\n",
              "          const element = document.querySelector('#df-669fe062-1bd2-4828-95ed-7b34f808635c');\n",
              "          const dataTable =\n",
              "            await google.colab.kernel.invokeFunction('convertToInteractive',\n",
              "                                                     [key], {});\n",
              "          if (!dataTable) return;\n",
              "\n",
              "          const docLinkHtml = 'Like what you see? Visit the ' +\n",
              "            '<a target=\"_blank\" href=https://colab.research.google.com/notebooks/data_table.ipynb>data table notebook</a>'\n",
              "            + ' to learn more about interactive tables.';\n",
              "          element.innerHTML = '';\n",
              "          dataTable['output_type'] = 'display_data';\n",
              "          await google.colab.output.renderOutput(dataTable, element);\n",
              "          const docLink = document.createElement('div');\n",
              "          docLink.innerHTML = docLinkHtml;\n",
              "          element.appendChild(docLink);\n",
              "        }\n",
              "      </script>\n",
              "    </div>\n",
              "  </div>\n",
              "  "
            ]
          },
          "metadata": {},
          "execution_count": 73
        }
      ]
    },
    {
      "cell_type": "code",
      "source": [
        "df.shape"
      ],
      "metadata": {
        "colab": {
          "base_uri": "https://localhost:8080/"
        },
        "id": "VdeePyOOtL9j",
        "outputId": "b60430cc-56bb-438c-c560-c8f55db3ceb0"
      },
      "execution_count": 74,
      "outputs": [
        {
          "output_type": "execute_result",
          "data": {
            "text/plain": [
              "(303, 15)"
            ]
          },
          "metadata": {},
          "execution_count": 74
        }
      ]
    },
    {
      "cell_type": "code",
      "source": [
        "df.size"
      ],
      "metadata": {
        "colab": {
          "base_uri": "https://localhost:8080/"
        },
        "id": "mg9wgzFR87fw",
        "outputId": "373874fa-8961-4f2e-a56e-7aa51f11f6de"
      },
      "execution_count": 75,
      "outputs": [
        {
          "output_type": "execute_result",
          "data": {
            "text/plain": [
              "4545"
            ]
          },
          "metadata": {},
          "execution_count": 75
        }
      ]
    },
    {
      "cell_type": "code",
      "source": [
        "df.cp.unique()"
      ],
      "metadata": {
        "colab": {
          "base_uri": "https://localhost:8080/"
        },
        "id": "6biNsbfm7hzc",
        "outputId": "a3b1da46-7746-4517-d93d-441eb3083952"
      },
      "execution_count": 84,
      "outputs": [
        {
          "output_type": "execute_result",
          "data": {
            "text/plain": [
              "array([3, 2, 1, 0])"
            ]
          },
          "metadata": {},
          "execution_count": 84
        }
      ]
    },
    {
      "cell_type": "code",
      "source": [
        "df.info()"
      ],
      "metadata": {
        "colab": {
          "base_uri": "https://localhost:8080/"
        },
        "id": "4M8c6wB1tMBM",
        "outputId": "946d03e1-39cb-4a52-a5a3-3ebd6f5dab02"
      },
      "execution_count": 80,
      "outputs": [
        {
          "output_type": "stream",
          "name": "stdout",
          "text": [
            "<class 'pandas.core.frame.DataFrame'>\n",
            "RangeIndex: 303 entries, 0 to 302\n",
            "Data columns (total 15 columns):\n",
            " #   Column      Non-Null Count  Dtype  \n",
            "---  ------      --------------  -----  \n",
            " 0   Unnamed: 0  303 non-null    int64  \n",
            " 1   age         303 non-null    int64  \n",
            " 2   sex         303 non-null    int64  \n",
            " 3   cp          303 non-null    int64  \n",
            " 4   trestbps    303 non-null    int64  \n",
            " 5   chol        303 non-null    int64  \n",
            " 6   fbs         303 non-null    int64  \n",
            " 7   restecg     303 non-null    int64  \n",
            " 8   thalach     303 non-null    int64  \n",
            " 9   exang       303 non-null    int64  \n",
            " 10  oldpeak     303 non-null    float64\n",
            " 11  slope       303 non-null    int64  \n",
            " 12  ca          303 non-null    int64  \n",
            " 13  thal        303 non-null    int64  \n",
            " 14  target      303 non-null    int64  \n",
            "dtypes: float64(1), int64(14)\n",
            "memory usage: 35.6 KB\n"
          ]
        }
      ]
    },
    {
      "cell_type": "code",
      "source": [
        "df.nunique()"
      ],
      "metadata": {
        "colab": {
          "base_uri": "https://localhost:8080/"
        },
        "id": "WcSbmIFhtMF0",
        "outputId": "55b7b26a-bd36-4979-e15a-a7d35e531244"
      },
      "execution_count": null,
      "outputs": [
        {
          "output_type": "execute_result",
          "data": {
            "text/plain": [
              "Unnamed: 0    303\n",
              "age            41\n",
              "sex             2\n",
              "cp              4\n",
              "trestbps       49\n",
              "chol          152\n",
              "fbs             2\n",
              "restecg         3\n",
              "thalach        91\n",
              "exang           2\n",
              "oldpeak        40\n",
              "slope           3\n",
              "ca              5\n",
              "thal            4\n",
              "target          2\n",
              "dtype: int64"
            ]
          },
          "metadata": {},
          "execution_count": 6
        }
      ]
    },
    {
      "cell_type": "code",
      "source": [
        "#2.Data Visualization\n",
        "#1-Male\n",
        "#0-Female\n",
        "sns.countplot(x='sex',data=df)"
      ],
      "metadata": {
        "colab": {
          "base_uri": "https://localhost:8080/",
          "height": 296
        },
        "id": "Y5iuL7rEtMH8",
        "outputId": "563264c8-69f3-40f9-b100-31baa723352a"
      },
      "execution_count": null,
      "outputs": [
        {
          "output_type": "execute_result",
          "data": {
            "text/plain": [
              "<Axes: xlabel='sex', ylabel='count'>"
            ]
          },
          "metadata": {},
          "execution_count": 8
        },
        {
          "output_type": "display_data",
          "data": {
            "text/plain": [
              "<Figure size 432x288 with 1 Axes>"
            ],
            "image/png": "[encoded data removed]"
          },
          "metadata": {
            "needs_background": "light"
          }
        }
      ]
    },
    {
      "cell_type": "code",
      "source": [
        "#1-Men\n",
        "#0-Female\n",
        "df.sex.value_counts()#df['sex'].value_counts()/df.groupby('sex').size()"
      ],
      "metadata": {
        "id": "Qq87mGa1vjr9",
        "colab": {
          "base_uri": "https://localhost:8080/"
        },
        "outputId": "d27a0e04-a8c7-478f-850f-d6bcbf8e5b34"
      },
      "execution_count": 81,
      "outputs": [
        {
          "output_type": "execute_result",
          "data": {
            "text/plain": [
              "1    207\n",
              "0     96\n",
              "Name: sex, dtype: int64"
            ]
          },
          "metadata": {},
          "execution_count": 81
        }
      ]
    },
    {
      "cell_type": "code",
      "source": [
        "#Group by age\n",
        "young=np.sum((df['age']>=0)&(df['age']<20)) #0 to 19\n",
        "adult=np.sum((df['age']>=20)&(df['age']<40)) #20 to 39\n",
        "midage=np.sum((df['age']>=40)&(df['age']<60)) #40 to 59\n",
        "old=np.sum(df['age']>=60) #>=60\n",
        "print(young)\n",
        "print(adult)\n",
        "print(midage)\n",
        "print(old)"
      ],
      "metadata": {
        "id": "8KoH4fM9vjvS",
        "colab": {
          "base_uri": "https://localhost:8080/"
        },
        "outputId": "76fc8d43-a434-43bf-c2b3-73c0ef488f1d"
      },
      "execution_count": 85,
      "outputs": [
        {
          "output_type": "stream",
          "name": "stdout",
          "text": [
            "0\n",
            "16\n",
            "197\n",
            "90\n"
          ]
        }
      ]
    },
    {
      "cell_type": "code",
      "source": [
        "print(np.min(df['age']))\n",
        "print(np.max(df['age']))"
      ],
      "metadata": {
        "colab": {
          "base_uri": "https://localhost:8080/"
        },
        "id": "UPQ6z2XM-dSD",
        "outputId": "2c1f7573-0a5f-475a-e6bf-cca35ab54b5a"
      },
      "execution_count": 83,
      "outputs": [
        {
          "output_type": "stream",
          "name": "stdout",
          "text": [
            "29\n",
            "77\n"
          ]
        }
      ]
    },
    {
      "cell_type": "code",
      "source": [
        "df.groupby(['sex','cp']).size()#df[['sex','cp']].value_counts()"
      ],
      "metadata": {
        "colab": {
          "base_uri": "https://localhost:8080/"
        },
        "id": "ZPAIgQE9-g2P",
        "outputId": "71e60bee-cd01-4824-b8ea-bf6ab7065f88"
      },
      "execution_count": 86,
      "outputs": [
        {
          "output_type": "execute_result",
          "data": {
            "text/plain": [
              "sex  cp\n",
              "0    0      39\n",
              "     1      18\n",
              "     2      35\n",
              "     3       4\n",
              "1    0     104\n",
              "     1      32\n",
              "     2      52\n",
              "     3      19\n",
              "dtype: int64"
            ]
          },
          "metadata": {},
          "execution_count": 86
        }
      ]
    },
    {
      "cell_type": "code",
      "source": [
        "df.groupby(['sex','fbs']).size()"
      ],
      "metadata": {
        "colab": {
          "base_uri": "https://localhost:8080/"
        },
        "id": "EFMOohux_52E",
        "outputId": "43017b22-947f-4c38-e29f-a763526eef71"
      },
      "execution_count": 87,
      "outputs": [
        {
          "output_type": "execute_result",
          "data": {
            "text/plain": [
              "sex  fbs\n",
              "0    0       84\n",
              "     1       12\n",
              "1    0      174\n",
              "     1       33\n",
              "dtype: int64"
            ]
          },
          "metadata": {},
          "execution_count": 87
        }
      ]
    },
    {
      "cell_type": "code",
      "source": [
        "df.groupby(['sex','restecg']).size()"
      ],
      "metadata": {
        "colab": {
          "base_uri": "https://localhost:8080/"
        },
        "id": "NtNUub1nAhod",
        "outputId": "7cd00b63-dbee-466a-e6ab-b0d28e154546"
      },
      "execution_count": 88,
      "outputs": [
        {
          "output_type": "execute_result",
          "data": {
            "text/plain": [
              "sex  restecg\n",
              "0    0           44\n",
              "     1           49\n",
              "     2            3\n",
              "1    0          103\n",
              "     1          103\n",
              "     2            1\n",
              "dtype: int64"
            ]
          },
          "metadata": {},
          "execution_count": 88
        }
      ]
    },
    {
      "cell_type": "code",
      "source": [
        "df.groupby(['sex','exang']).size()"
      ],
      "metadata": {
        "colab": {
          "base_uri": "https://localhost:8080/"
        },
        "id": "l50FKVTdAp36",
        "outputId": "df284d9b-7c75-4f1c-a67d-096603d2305b"
      },
      "execution_count": 89,
      "outputs": [
        {
          "output_type": "execute_result",
          "data": {
            "text/plain": [
              "sex  exang\n",
              "0    0         74\n",
              "     1         22\n",
              "1    0        130\n",
              "     1         77\n",
              "dtype: int64"
            ]
          },
          "metadata": {},
          "execution_count": 89
        }
      ]
    },
    {
      "cell_type": "code",
      "source": [
        "df.groupby(['sex','slope']).size()"
      ],
      "metadata": {
        "colab": {
          "base_uri": "https://localhost:8080/"
        },
        "id": "ce4sBlzBAvAL",
        "outputId": "da024ee5-a918-4b79-f8bc-0132915111d4"
      },
      "execution_count": 90,
      "outputs": [
        {
          "output_type": "execute_result",
          "data": {
            "text/plain": [
              "sex  slope\n",
              "0    0         5\n",
              "     1        45\n",
              "     2        46\n",
              "1    0        16\n",
              "     1        95\n",
              "     2        96\n",
              "dtype: int64"
            ]
          },
          "metadata": {},
          "execution_count": 90
        }
      ]
    },
    {
      "cell_type": "code",
      "source": [
        "df.groupby(['sex','ca']).size()"
      ],
      "metadata": {
        "colab": {
          "base_uri": "https://localhost:8080/"
        },
        "id": "44DPXz6TA1ce",
        "outputId": "4518701b-d5e5-4551-e200-0a51311350ed"
      },
      "execution_count": 91,
      "outputs": [
        {
          "output_type": "execute_result",
          "data": {
            "text/plain": [
              "sex  ca\n",
              "0    0      64\n",
              "     1      15\n",
              "     2      13\n",
              "     3       4\n",
              "1    0     111\n",
              "     1      50\n",
              "     2      25\n",
              "     3      16\n",
              "     4       5\n",
              "dtype: int64"
            ]
          },
          "metadata": {},
          "execution_count": 91
        }
      ]
    },
    {
      "cell_type": "code",
      "source": [
        "df.groupby(['sex','thal']).size()"
      ],
      "metadata": {
        "colab": {
          "base_uri": "https://localhost:8080/"
        },
        "id": "ZkRxQFClA2_L",
        "outputId": "616ff3b8-a370-4345-94ee-e257150afa16"
      },
      "execution_count": 93,
      "outputs": [
        {
          "output_type": "execute_result",
          "data": {
            "text/plain": [
              "sex  thal\n",
              "0    0         1\n",
              "     1         1\n",
              "     2        79\n",
              "     3        15\n",
              "1    0         1\n",
              "     1        17\n",
              "     2        87\n",
              "     3       102\n",
              "dtype: int64"
            ]
          },
          "metadata": {},
          "execution_count": 93
        }
      ]
    },
    {
      "cell_type": "code",
      "source": [
        "df.groupby(['sex','target']).size()"
      ],
      "metadata": {
        "colab": {
          "base_uri": "https://localhost:8080/"
        },
        "id": "6I5g-6hWA6TR",
        "outputId": "ea923c4b-3442-4155-c327-c040b555cf6c"
      },
      "execution_count": 94,
      "outputs": [
        {
          "output_type": "execute_result",
          "data": {
            "text/plain": [
              "sex  target\n",
              "0    0          24\n",
              "     1          72\n",
              "1    0         114\n",
              "     1          93\n",
              "dtype: int64"
            ]
          },
          "metadata": {},
          "execution_count": 94
        }
      ]
    },
    {
      "cell_type": "code",
      "source": [
        "#Run classifier,REGRESSOR or clusterer(APPLYING a suitable ALGORITHM)\n",
        "#sklearn.linear_model - package(collection of libraries),LinearRegression - Library\n",
        "from sklearn.linear_model import LinearRegression\n",
        "model=LinearRegression()"
      ],
      "metadata": {
        "id": "c4-wRvTsA_Ds"
      },
      "execution_count": 96,
      "outputs": []
    },
    {
      "cell_type": "code",
      "source": [
        "x=df.iloc[0:303,4:5].values\n",
        "x"
      ],
      "metadata": {
        "colab": {
          "base_uri": "https://localhost:8080/"
        },
        "id": "dNOiBBoiBcIy",
        "outputId": "0d359564-5b53-4156-81eb-f79082cad9dd"
      },
      "execution_count": 97,
      "outputs": [
        {
          "output_type": "execute_result",
          "data": {
            "text/plain": [
              "array([[145],\n",
              "       [130],\n",
              "       [130],\n",
              "       [120],\n",
              "       [120],\n",
              "       [140],\n",
              "       [140],\n",
              "       [120],\n",
              "       [172],\n",
              "       [150],\n",
              "       [140],\n",
              "       [130],\n",
              "       [130],\n",
              "       [110],\n",
              "       [150],\n",
              "       [120],\n",
              "       [120],\n",
              "       [150],\n",
              "       [150],\n",
              "       [140],\n",
              "       [135],\n",
              "       [130],\n",
              "       [140],\n",
              "       [150],\n",
              "       [140],\n",
              "       [160],\n",
              "       [150],\n",
              "       [110],\n",
              "       [140],\n",
              "       [130],\n",
              "       [105],\n",
              "       [120],\n",
              "       [130],\n",
              "       [125],\n",
              "       [125],\n",
              "       [142],\n",
              "       [135],\n",
              "       [150],\n",
              "       [155],\n",
              "       [160],\n",
              "       [140],\n",
              "       [130],\n",
              "       [104],\n",
              "       [130],\n",
              "       [140],\n",
              "       [120],\n",
              "       [140],\n",
              "       [138],\n",
              "       [128],\n",
              "       [138],\n",
              "       [130],\n",
              "       [120],\n",
              "       [130],\n",
              "       [108],\n",
              "       [135],\n",
              "       [134],\n",
              "       [122],\n",
              "       [115],\n",
              "       [118],\n",
              "       [128],\n",
              "       [110],\n",
              "       [108],\n",
              "       [118],\n",
              "       [135],\n",
              "       [140],\n",
              "       [138],\n",
              "       [100],\n",
              "       [130],\n",
              "       [120],\n",
              "       [124],\n",
              "       [120],\n",
              "       [ 94],\n",
              "       [130],\n",
              "       [140],\n",
              "       [122],\n",
              "       [135],\n",
              "       [125],\n",
              "       [140],\n",
              "       [128],\n",
              "       [105],\n",
              "       [112],\n",
              "       [128],\n",
              "       [102],\n",
              "       [152],\n",
              "       [102],\n",
              "       [115],\n",
              "       [118],\n",
              "       [101],\n",
              "       [110],\n",
              "       [100],\n",
              "       [124],\n",
              "       [132],\n",
              "       [138],\n",
              "       [132],\n",
              "       [112],\n",
              "       [142],\n",
              "       [140],\n",
              "       [108],\n",
              "       [130],\n",
              "       [130],\n",
              "       [148],\n",
              "       [178],\n",
              "       [140],\n",
              "       [120],\n",
              "       [129],\n",
              "       [120],\n",
              "       [160],\n",
              "       [138],\n",
              "       [120],\n",
              "       [110],\n",
              "       [180],\n",
              "       [150],\n",
              "       [140],\n",
              "       [110],\n",
              "       [130],\n",
              "       [120],\n",
              "       [130],\n",
              "       [120],\n",
              "       [105],\n",
              "       [138],\n",
              "       [130],\n",
              "       [138],\n",
              "       [112],\n",
              "       [108],\n",
              "       [ 94],\n",
              "       [118],\n",
              "       [112],\n",
              "       [152],\n",
              "       [136],\n",
              "       [120],\n",
              "       [160],\n",
              "       [134],\n",
              "       [120],\n",
              "       [110],\n",
              "       [126],\n",
              "       [130],\n",
              "       [120],\n",
              "       [128],\n",
              "       [110],\n",
              "       [128],\n",
              "       [120],\n",
              "       [115],\n",
              "       [120],\n",
              "       [106],\n",
              "       [140],\n",
              "       [156],\n",
              "       [118],\n",
              "       [150],\n",
              "       [120],\n",
              "       [130],\n",
              "       [160],\n",
              "       [112],\n",
              "       [170],\n",
              "       [146],\n",
              "       [138],\n",
              "       [130],\n",
              "       [130],\n",
              "       [122],\n",
              "       [125],\n",
              "       [130],\n",
              "       [120],\n",
              "       [132],\n",
              "       [120],\n",
              "       [138],\n",
              "       [138],\n",
              "       [160],\n",
              "       [120],\n",
              "       [140],\n",
              "       [130],\n",
              "       [140],\n",
              "       [130],\n",
              "       [110],\n",
              "       [120],\n",
              "       [132],\n",
              "       [130],\n",
              "       [110],\n",
              "       [117],\n",
              "       [140],\n",
              "       [120],\n",
              "       [150],\n",
              "       [132],\n",
              "       [150],\n",
              "       [130],\n",
              "       [112],\n",
              "       [150],\n",
              "       [112],\n",
              "       [130],\n",
              "       [124],\n",
              "       [140],\n",
              "       [110],\n",
              "       [130],\n",
              "       [128],\n",
              "       [120],\n",
              "       [145],\n",
              "       [140],\n",
              "       [170],\n",
              "       [150],\n",
              "       [125],\n",
              "       [120],\n",
              "       [110],\n",
              "       [110],\n",
              "       [125],\n",
              "       [150],\n",
              "       [180],\n",
              "       [160],\n",
              "       [128],\n",
              "       [110],\n",
              "       [150],\n",
              "       [120],\n",
              "       [140],\n",
              "       [128],\n",
              "       [120],\n",
              "       [118],\n",
              "       [145],\n",
              "       [125],\n",
              "       [132],\n",
              "       [130],\n",
              "       [130],\n",
              "       [135],\n",
              "       [130],\n",
              "       [150],\n",
              "       [140],\n",
              "       [138],\n",
              "       [200],\n",
              "       [110],\n",
              "       [145],\n",
              "       [120],\n",
              "       [120],\n",
              "       [170],\n",
              "       [125],\n",
              "       [108],\n",
              "       [165],\n",
              "       [160],\n",
              "       [120],\n",
              "       [130],\n",
              "       [140],\n",
              "       [125],\n",
              "       [140],\n",
              "       [125],\n",
              "       [126],\n",
              "       [160],\n",
              "       [174],\n",
              "       [145],\n",
              "       [152],\n",
              "       [132],\n",
              "       [124],\n",
              "       [134],\n",
              "       [160],\n",
              "       [192],\n",
              "       [140],\n",
              "       [140],\n",
              "       [132],\n",
              "       [138],\n",
              "       [100],\n",
              "       [160],\n",
              "       [142],\n",
              "       [128],\n",
              "       [144],\n",
              "       [150],\n",
              "       [120],\n",
              "       [178],\n",
              "       [112],\n",
              "       [123],\n",
              "       [108],\n",
              "       [110],\n",
              "       [112],\n",
              "       [180],\n",
              "       [118],\n",
              "       [122],\n",
              "       [130],\n",
              "       [120],\n",
              "       [134],\n",
              "       [120],\n",
              "       [100],\n",
              "       [110],\n",
              "       [125],\n",
              "       [146],\n",
              "       [124],\n",
              "       [136],\n",
              "       [138],\n",
              "       [136],\n",
              "       [128],\n",
              "       [126],\n",
              "       [152],\n",
              "       [140],\n",
              "       [140],\n",
              "       [134],\n",
              "       [154],\n",
              "       [110],\n",
              "       [128],\n",
              "       [148],\n",
              "       [114],\n",
              "       [170],\n",
              "       [152],\n",
              "       [120],\n",
              "       [140],\n",
              "       [124],\n",
              "       [164],\n",
              "       [140],\n",
              "       [110],\n",
              "       [144],\n",
              "       [130],\n",
              "       [130]])"
            ]
          },
          "metadata": {},
          "execution_count": 97
        }
      ]
    },
    {
      "cell_type": "code",
      "source": [
        "y=df.iloc[0:303,5].values\n",
        "y"
      ],
      "metadata": {
        "colab": {
          "base_uri": "https://localhost:8080/"
        },
        "id": "63CKECSyCn7t",
        "outputId": "d44426e0-c7b2-4f3c-a869-c9f4072acca3"
      },
      "execution_count": 99,
      "outputs": [
        {
          "output_type": "execute_result",
          "data": {
            "text/plain": [
              "array([233, 250, 204, 236, 354, 192, 294, 263, 199, 168, 239, 275, 266,\n",
              "       211, 283, 219, 340, 226, 247, 239, 234, 233, 226, 243, 199, 302,\n",
              "       212, 175, 417, 197, 198, 177, 219, 273, 213, 177, 304, 232, 269,\n",
              "       360, 308, 245, 208, 264, 321, 325, 235, 257, 216, 234, 256, 302,\n",
              "       231, 141, 252, 201, 222, 260, 182, 303, 265, 309, 186, 203, 211,\n",
              "       183, 222, 234, 220, 209, 258, 227, 204, 261, 213, 250, 245, 221,\n",
              "       205, 240, 250, 308, 318, 298, 265, 564, 277, 197, 214, 248, 255,\n",
              "       207, 223, 288, 160, 226, 394, 233, 315, 246, 244, 270, 195, 240,\n",
              "       196, 211, 234, 236, 244, 254, 325, 126, 313, 211, 262, 215, 214,\n",
              "       193, 204, 243, 303, 271, 268, 267, 199, 210, 204, 277, 196, 269,\n",
              "       201, 271, 295, 235, 306, 269, 178, 208, 201, 263, 295, 303, 209,\n",
              "       223, 197, 245, 242, 240, 226, 180, 228, 149, 227, 278, 220, 197,\n",
              "       253, 192, 220, 221, 240, 342, 157, 175, 175, 286, 229, 268, 254,\n",
              "       203, 256, 229, 284, 224, 206, 167, 230, 335, 177, 276, 353, 225,\n",
              "       330, 230, 243, 290, 253, 266, 233, 172, 305, 216, 188, 282, 185,\n",
              "       326, 231, 254, 267, 248, 197, 258, 270, 274, 164, 255, 239, 258,\n",
              "       188, 177, 229, 260, 219, 307, 249, 341, 263, 330, 254, 256, 407,\n",
              "       217, 282, 288, 239, 174, 281, 198, 288, 309, 243, 289, 289, 246,\n",
              "       322, 299, 300, 293, 304, 282, 269, 249, 212, 274, 184, 274, 409,\n",
              "       246, 283, 254, 298, 247, 294, 299, 273, 309, 259, 200, 244, 231,\n",
              "       228, 230, 282, 269, 206, 212, 327, 149, 286, 283, 249, 234, 237,\n",
              "       234, 275, 212, 218, 261, 319, 166, 315, 204, 218, 223, 207, 311,\n",
              "       204, 232, 335, 205, 203, 318, 225, 212, 169, 187, 197, 176, 241,\n",
              "       264, 193, 131, 236])"
            ]
          },
          "metadata": {},
          "execution_count": 99
        }
      ]
    },
    {
      "cell_type": "code",
      "source": [
        "model.fit(x,y)"
      ],
      "metadata": {
        "colab": {
          "base_uri": "https://localhost:8080/",
          "height": 51
        },
        "id": "eMm3676OC_aQ",
        "outputId": "b6854285-b13e-4545-f3ea-f500985fcce6"
      },
      "execution_count": 100,
      "outputs": [
        {
          "output_type": "execute_result",
          "data": {
            "text/plain": [
              "LinearRegression()"
            ],
            "text/html": [
              "<style>#sk-container-id-1 {color: black;background-color: white;}#sk-container-id-1 pre{padding: 0;}#sk-container-id-1 div.sk-toggleable {background-color: white;}#sk-container-id-1 label.sk-toggleable__label {cursor: pointer;display: block;width: 100%;margin-bottom: 0;padding: 0.3em;box-sizing: border-box;text-align: center;}#sk-container-id-1 label.sk-toggleable__label-arrow:before {content: \"▸\";float: left;margin-right: 0.25em;color: #696969;}#sk-container-id-1 label.sk-toggleable__label-arrow:hover:before {color: black;}#sk-container-id-1 div.sk-estimator:hover label.sk-toggleable__label-arrow:before {color: black;}#sk-container-id-1 div.sk-toggleable__content {max-height: 0;max-width: 0;overflow: hidden;text-align: left;background-color: #f0f8ff;}#sk-container-id-1 div.sk-toggleable__content pre {margin: 0.2em;color: black;border-radius: 0.25em;background-color: #f0f8ff;}#sk-container-id-1 input.sk-toggleable__control:checked~div.sk-toggleable__content {max-height: 200px;max-width: 100%;overflow: auto;}#sk-container-id-1 input.sk-toggleable__control:checked~label.sk-toggleable__label-arrow:before {content: \"▾\";}#sk-container-id-1 div.sk-estimator input.sk-toggleable__control:checked~label.sk-toggleable__label {background-color: #d4ebff;}#sk-container-id-1 div.sk-label input.sk-toggleable__control:checked~label.sk-toggleable__label {background-color: #d4ebff;}#sk-container-id-1 input.sk-hidden--visually {border: 0;clip: rect(1px 1px 1px 1px);clip: rect(1px, 1px, 1px, 1px);height: 1px;margin: -1px;overflow: hidden;padding: 0;position: absolute;width: 1px;}#sk-container-id-1 div.sk-estimator {font-family: monospace;background-color: #f0f8ff;border: 1px dotted black;border-radius: 0.25em;box-sizing: border-box;margin-bottom: 0.5em;}#sk-container-id-1 div.sk-estimator:hover {background-color: #d4ebff;}#sk-container-id-1 div.sk-parallel-item::after {content: \"\";width: 100%;border-bottom: 1px solid gray;flex-grow: 1;}#sk-container-id-1 div.sk-label:hover label.sk-toggleable__label {background-color: #d4ebff;}#sk-container-id-1 div.sk-serial::before {content: \"\";position: absolute;border-left: 1px solid gray;box-sizing: border-box;top: 0;bottom: 0;left: 50%;z-index: 0;}#sk-container-id-1 div.sk-serial {display: flex;flex-direction: column;align-items: center;background-color: white;padding-right: 0.2em;padding-left: 0.2em;position: relative;}#sk-container-id-1 div.sk-item {position: relative;z-index: 1;}#sk-container-id-1 div.sk-parallel {display: flex;align-items: stretch;justify-content: center;background-color: white;position: relative;}#sk-container-id-1 div.sk-item::before, #sk-container-id-1 div.sk-parallel-item::before {content: \"\";position: absolute;border-left: 1px solid gray;box-sizing: border-box;top: 0;bottom: 0;left: 50%;z-index: -1;}#sk-container-id-1 div.sk-parallel-item {display: flex;flex-direction: column;z-index: 1;position: relative;background-color: white;}#sk-container-id-1 div.sk-parallel-item:first-child::after {align-self: flex-end;width: 50%;}#sk-container-id-1 div.sk-parallel-item:last-child::after {align-self: flex-start;width: 50%;}#sk-container-id-1 div.sk-parallel-item:only-child::after {width: 0;}#sk-container-id-1 div.sk-dashed-wrapped {border: 1px dashed gray;margin: 0 0.4em 0.5em 0.4em;box-sizing: border-box;padding-bottom: 0.4em;background-color: white;}#sk-container-id-1 div.sk-label label {font-family: monospace;font-weight: bold;display: inline-block;line-height: 1.2em;}#sk-container-id-1 div.sk-label-container {text-align: center;}#sk-container-id-1 div.sk-container {/* jupyter's `normalize.less` sets `[hidden] { display: none; }` but bootstrap.min.css set `[hidden] { display: none !important; }` so we also need the `!important` here to be able to override the default hidden behavior on the sphinx rendered scikit-learn.org. See: https://github.com/scikit-learn/scikit-learn/issues/21755 */display: inline-block !important;position: relative;}#sk-container-id-1 div.sk-text-repr-fallback {display: none;}</style><div id=\"sk-container-id-1\" class=\"sk-top-container\"><div class=\"sk-text-repr-fallback\"><pre>LinearRegression()</pre><b>In a Jupyter environment, please rerun this cell to show the HTML representation or trust the notebook. <br />On GitHub, the HTML representation is unable to render, please try loading this page with nbviewer.org.</b></div><div class=\"sk-container\" hidden><div class=\"sk-item\"><div class=\"sk-estimator sk-toggleable\"><input class=\"sk-toggleable__control sk-hidden--visually\" id=\"sk-estimator-id-1\" type=\"checkbox\" checked><label for=\"sk-estimator-id-1\" class=\"sk-toggleable__label sk-toggleable__label-arrow\">LinearRegression</label><div class=\"sk-toggleable__content\"><pre>LinearRegression()</pre></div></div></div></div></div>"
            ]
          },
          "metadata": {},
          "execution_count": 100
        }
      ]
    },
    {
      "cell_type": "code",
      "source": [
        "#Predict the output\n",
        "y_pred=model.predict(x)#Using the input values,we predict the output\n",
        "y_pred#predicted output values"
      ],
      "metadata": {
        "colab": {
          "base_uri": "https://localhost:8080/"
        },
        "id": "OjmTF8hXDKpv",
        "outputId": "397e24b5-1c35-44a2-993e-2f5cb4eb843f"
      },
      "execution_count": 101,
      "outputs": [
        {
          "output_type": "execute_result",
          "data": {
            "text/plain": [
              "array([251.13322679, 245.67294656, 245.67294656, 242.03275975,\n",
              "       242.03275975, 249.31313338, 249.31313338, 242.03275975,\n",
              "       260.9617312 , 252.9533202 , 249.31313338, 245.67294656,\n",
              "       245.67294656, 238.39257293, 252.9533202 , 242.03275975,\n",
              "       242.03275975, 252.9533202 , 252.9533202 , 249.31313338,\n",
              "       247.49303997, 245.67294656, 249.31313338, 252.9533202 ,\n",
              "       249.31313338, 256.59350701, 252.9533202 , 238.39257293,\n",
              "       249.31313338, 245.67294656, 236.57247952, 242.03275975,\n",
              "       245.67294656, 243.85285315, 243.85285315, 250.04117074,\n",
              "       247.49303997, 252.9533202 , 254.77341361, 256.59350701,\n",
              "       249.31313338, 245.67294656, 236.20846084, 245.67294656,\n",
              "       249.31313338, 242.03275975, 249.31313338, 248.58509602,\n",
              "       244.9449092 , 248.58509602, 245.67294656, 242.03275975,\n",
              "       245.67294656, 237.66453557, 247.49303997, 247.12902129,\n",
              "       242.76079711, 240.21266634, 241.30472238, 244.9449092 ,\n",
              "       238.39257293, 237.66453557, 241.30472238, 247.49303997,\n",
              "       249.31313338, 248.58509602, 234.75238611, 245.67294656,\n",
              "       242.03275975, 243.48883447, 242.03275975, 232.56827402,\n",
              "       245.67294656, 249.31313338, 242.76079711, 247.49303997,\n",
              "       243.85285315, 249.31313338, 244.9449092 , 236.57247952,\n",
              "       239.12061029, 244.9449092 , 235.48042347, 253.68135756,\n",
              "       235.48042347, 240.21266634, 241.30472238, 235.11640479,\n",
              "       238.39257293, 234.75238611, 243.48883447, 246.40098393,\n",
              "       248.58509602, 246.40098393, 239.12061029, 250.04117074,\n",
              "       249.31313338, 237.66453557, 245.67294656, 245.67294656,\n",
              "       252.22528283, 263.14584329, 249.31313338, 242.03275975,\n",
              "       245.30892788, 242.03275975, 256.59350701, 248.58509602,\n",
              "       242.03275975, 238.39257293, 263.87388065, 252.9533202 ,\n",
              "       249.31313338, 238.39257293, 245.67294656, 242.03275975,\n",
              "       245.67294656, 242.03275975, 236.57247952, 248.58509602,\n",
              "       245.67294656, 248.58509602, 239.12061029, 237.66453557,\n",
              "       232.56827402, 241.30472238, 239.12061029, 253.68135756,\n",
              "       247.85705865, 242.03275975, 256.59350701, 247.12902129,\n",
              "       242.03275975, 238.39257293, 244.21687184, 245.67294656,\n",
              "       242.03275975, 244.9449092 , 238.39257293, 244.9449092 ,\n",
              "       242.03275975, 240.21266634, 242.03275975, 236.9364982 ,\n",
              "       249.31313338, 255.13743229, 241.30472238, 252.9533202 ,\n",
              "       242.03275975, 245.67294656, 256.59350701, 239.12061029,\n",
              "       260.23369383, 251.49724547, 248.58509602, 245.67294656,\n",
              "       245.67294656, 242.76079711, 243.85285315, 245.67294656,\n",
              "       242.03275975, 246.40098393, 242.03275975, 248.58509602,\n",
              "       248.58509602, 256.59350701, 242.03275975, 249.31313338,\n",
              "       245.67294656, 249.31313338, 245.67294656, 238.39257293,\n",
              "       242.03275975, 246.40098393, 245.67294656, 238.39257293,\n",
              "       240.9407037 , 249.31313338, 242.03275975, 252.9533202 ,\n",
              "       246.40098393, 252.9533202 , 245.67294656, 239.12061029,\n",
              "       252.9533202 , 239.12061029, 245.67294656, 243.48883447,\n",
              "       249.31313338, 238.39257293, 245.67294656, 244.9449092 ,\n",
              "       242.03275975, 251.13322679, 249.31313338, 260.23369383,\n",
              "       252.9533202 , 243.85285315, 242.03275975, 238.39257293,\n",
              "       238.39257293, 243.85285315, 252.9533202 , 263.87388065,\n",
              "       256.59350701, 244.9449092 , 238.39257293, 252.9533202 ,\n",
              "       242.03275975, 249.31313338, 244.9449092 , 242.03275975,\n",
              "       241.30472238, 251.13322679, 243.85285315, 246.40098393,\n",
              "       245.67294656, 245.67294656, 247.49303997, 245.67294656,\n",
              "       252.9533202 , 249.31313338, 248.58509602, 271.15425428,\n",
              "       238.39257293, 251.13322679, 242.03275975, 242.03275975,\n",
              "       260.23369383, 243.85285315, 237.66453557, 258.41360042,\n",
              "       256.59350701, 242.03275975, 245.67294656, 249.31313338,\n",
              "       243.85285315, 249.31313338, 243.85285315, 244.21687184,\n",
              "       256.59350701, 261.68976856, 251.13322679, 253.68135756,\n",
              "       246.40098393, 243.48883447, 247.12902129, 256.59350701,\n",
              "       268.24210483, 249.31313338, 249.31313338, 246.40098393,\n",
              "       248.58509602, 234.75238611, 256.59350701, 250.04117074,\n",
              "       244.9449092 , 250.76920811, 252.9533202 , 242.03275975,\n",
              "       263.14584329, 239.12061029, 243.12481579, 237.66453557,\n",
              "       238.39257293, 239.12061029, 263.87388065, 241.30472238,\n",
              "       242.76079711, 245.67294656, 242.03275975, 247.12902129,\n",
              "       242.03275975, 234.75238611, 238.39257293, 243.85285315,\n",
              "       251.49724547, 243.48883447, 247.85705865, 248.58509602,\n",
              "       247.85705865, 244.9449092 , 244.21687184, 253.68135756,\n",
              "       249.31313338, 249.31313338, 247.12902129, 254.40939492,\n",
              "       238.39257293, 244.9449092 , 252.22528283, 239.84864766,\n",
              "       260.23369383, 253.68135756, 242.03275975, 249.31313338,\n",
              "       243.48883447, 258.04958174, 249.31313338, 238.39257293,\n",
              "       250.76920811, 245.67294656, 245.67294656])"
            ]
          },
          "metadata": {},
          "execution_count": 101
        }
      ]
    },
    {
      "cell_type": "code",
      "source": [
        "y#actual values"
      ],
      "metadata": {
        "colab": {
          "base_uri": "https://localhost:8080/"
        },
        "id": "hgU1WYfWEOvE",
        "outputId": "d3de3020-0579-4ab1-9639-21002e86db9c"
      },
      "execution_count": 102,
      "outputs": [
        {
          "output_type": "execute_result",
          "data": {
            "text/plain": [
              "array([233, 250, 204, 236, 354, 192, 294, 263, 199, 168, 239, 275, 266,\n",
              "       211, 283, 219, 340, 226, 247, 239, 234, 233, 226, 243, 199, 302,\n",
              "       212, 175, 417, 197, 198, 177, 219, 273, 213, 177, 304, 232, 269,\n",
              "       360, 308, 245, 208, 264, 321, 325, 235, 257, 216, 234, 256, 302,\n",
              "       231, 141, 252, 201, 222, 260, 182, 303, 265, 309, 186, 203, 211,\n",
              "       183, 222, 234, 220, 209, 258, 227, 204, 261, 213, 250, 245, 221,\n",
              "       205, 240, 250, 308, 318, 298, 265, 564, 277, 197, 214, 248, 255,\n",
              "       207, 223, 288, 160, 226, 394, 233, 315, 246, 244, 270, 195, 240,\n",
              "       196, 211, 234, 236, 244, 254, 325, 126, 313, 211, 262, 215, 214,\n",
              "       193, 204, 243, 303, 271, 268, 267, 199, 210, 204, 277, 196, 269,\n",
              "       201, 271, 295, 235, 306, 269, 178, 208, 201, 263, 295, 303, 209,\n",
              "       223, 197, 245, 242, 240, 226, 180, 228, 149, 227, 278, 220, 197,\n",
              "       253, 192, 220, 221, 240, 342, 157, 175, 175, 286, 229, 268, 254,\n",
              "       203, 256, 229, 284, 224, 206, 167, 230, 335, 177, 276, 353, 225,\n",
              "       330, 230, 243, 290, 253, 266, 233, 172, 305, 216, 188, 282, 185,\n",
              "       326, 231, 254, 267, 248, 197, 258, 270, 274, 164, 255, 239, 258,\n",
              "       188, 177, 229, 260, 219, 307, 249, 341, 263, 330, 254, 256, 407,\n",
              "       217, 282, 288, 239, 174, 281, 198, 288, 309, 243, 289, 289, 246,\n",
              "       322, 299, 300, 293, 304, 282, 269, 249, 212, 274, 184, 274, 409,\n",
              "       246, 283, 254, 298, 247, 294, 299, 273, 309, 259, 200, 244, 231,\n",
              "       228, 230, 282, 269, 206, 212, 327, 149, 286, 283, 249, 234, 237,\n",
              "       234, 275, 212, 218, 261, 319, 166, 315, 204, 218, 223, 207, 311,\n",
              "       204, 232, 335, 205, 203, 318, 225, 212, 169, 187, 197, 176, 241,\n",
              "       264, 193, 131, 236])"
            ]
          },
          "metadata": {},
          "execution_count": 102
        }
      ]
    },
    {
      "cell_type": "code",
      "source": [
        "#CONCLUSION: We have to compare the corresponding values of y and y_pred.\n",
        "#So when we compare , we come to know , that there is a slight difference\n",
        "#This slight difference mean that our model has predicted somewhat correct\n",
        "#It only means , that our model is somewhat/moderately LINEAR\n",
        "#LINEARITY of a model ,depends on the NATURE of the data as well as the SIZE of the data."
      ],
      "metadata": {
        "id": "XozZ6X4JEU1V"
      },
      "execution_count": 104,
      "outputs": []
    },
    {
      "cell_type": "code",
      "source": [
        "#Indivisual prediction\n",
        "model.predict([[124]])"
      ],
      "metadata": {
        "colab": {
          "base_uri": "https://localhost:8080/"
        },
        "id": "dgXk0RSCFBKJ",
        "outputId": "afcecd02-fa0e-4e2b-e23f-032f0d38afe6"
      },
      "execution_count": 105,
      "outputs": [
        {
          "output_type": "execute_result",
          "data": {
            "text/plain": [
              "array([243.48883447])"
            ]
          },
          "metadata": {},
          "execution_count": 105
        }
      ]
    },
    {
      "cell_type": "code",
      "source": [
        "#CROSS VERIFICATION\n",
        "#y = mx + C #Equation of a Straight line\n",
        "#m - Slope\n",
        "#C - Constant/y-intercept\n",
        "#y - dependant variable\n",
        "#x - independant variable"
      ],
      "metadata": {
        "id": "dgGfv8ntFVjI"
      },
      "execution_count": 106,
      "outputs": []
    },
    {
      "cell_type": "code",
      "source": [
        "m = model.coef_ #slope(m)\n",
        "m"
      ],
      "metadata": {
        "colab": {
          "base_uri": "https://localhost:8080/"
        },
        "id": "QBR1DMOeFeYH",
        "outputId": "2bdd6f15-add0-4c53-97ca-9ddba30a70b3"
      },
      "execution_count": 107,
      "outputs": [
        {
          "output_type": "execute_result",
          "data": {
            "text/plain": [
              "array([0.36401868])"
            ]
          },
          "metadata": {},
          "execution_count": 107
        }
      ]
    },
    {
      "cell_type": "code",
      "source": [
        "C = model.intercept_ # constant/y-intercept\n",
        "C"
      ],
      "metadata": {
        "colab": {
          "base_uri": "https://localhost:8080/"
        },
        "id": "VgC8RkjHFe5l",
        "outputId": "dd29ca17-a3aa-4228-8ebe-604f29dbcd2c"
      },
      "execution_count": 108,
      "outputs": [
        {
          "output_type": "execute_result",
          "data": {
            "text/plain": [
              "198.35051793849544"
            ]
          },
          "metadata": {},
          "execution_count": 108
        }
      ]
    },
    {
      "cell_type": "code",
      "source": [
        "#y = mx +C\n",
        "m*124 + C"
      ],
      "metadata": {
        "colab": {
          "base_uri": "https://localhost:8080/"
        },
        "id": "XfuskpCPGcMz",
        "outputId": "af55da3c-20b6-4047-9f9b-8f2145592140"
      },
      "execution_count": 110,
      "outputs": [
        {
          "output_type": "execute_result",
          "data": {
            "text/plain": [
              "array([243.48883447])"
            ]
          },
          "metadata": {},
          "execution_count": 110
        }
      ]
    },
    {
      "cell_type": "code",
      "source": [
        "#FINAL VISUALISATION - BEST FIT LINE\n",
        "\n",
        "plt.scatter(x,y) #ACTUAL VALUES\n",
        "plt.plot(x,y_pred,c = 'orange') #PREDICTED VALUES\n",
        "plt.title('BEST FIT LINE')\n",
        "plt.xlabel('trestbps')\n",
        "plt.ylabel('chol')"
      ],
      "metadata": {
        "colab": {
          "base_uri": "https://localhost:8080/",
          "height": 312
        },
        "id": "_xXmuuFWGhaj",
        "outputId": "caa6d18f-a99d-4c68-890a-6eb29973e93e"
      },
      "execution_count": 111,
      "outputs": [
        {
          "output_type": "execute_result",
          "data": {
            "text/plain": [
              "Text(0, 0.5, 'chol')"
            ]
          },
          "metadata": {},
          "execution_count": 111
        },
        {
          "output_type": "display_data",
          "data": {
            "text/plain": [
              "<Figure size 432x288 with 1 Axes>"
            ],
            "image/png": "[encoded data removed]"
          },
          "metadata": {
            "needs_background": "light"
          }
        }
      ]
    },
    {
      "cell_type": "code",
      "source": [
        "x1=df.iloc[0:303,4:5].values\n",
        "x1"
      ],
      "metadata": {
        "colab": {
          "base_uri": "https://localhost:8080/"
        },
        "id": "Jm9R_4APHAuX",
        "outputId": "eaa8730c-95d0-466d-aa89-7adf1fe6c845"
      },
      "execution_count": 116,
      "outputs": [
        {
          "output_type": "execute_result",
          "data": {
            "text/plain": [
              "array([[145],\n",
              "       [130],\n",
              "       [130],\n",
              "       [120],\n",
              "       [120],\n",
              "       [140],\n",
              "       [140],\n",
              "       [120],\n",
              "       [172],\n",
              "       [150],\n",
              "       [140],\n",
              "       [130],\n",
              "       [130],\n",
              "       [110],\n",
              "       [150],\n",
              "       [120],\n",
              "       [120],\n",
              "       [150],\n",
              "       [150],\n",
              "       [140],\n",
              "       [135],\n",
              "       [130],\n",
              "       [140],\n",
              "       [150],\n",
              "       [140],\n",
              "       [160],\n",
              "       [150],\n",
              "       [110],\n",
              "       [140],\n",
              "       [130],\n",
              "       [105],\n",
              "       [120],\n",
              "       [130],\n",
              "       [125],\n",
              "       [125],\n",
              "       [142],\n",
              "       [135],\n",
              "       [150],\n",
              "       [155],\n",
              "       [160],\n",
              "       [140],\n",
              "       [130],\n",
              "       [104],\n",
              "       [130],\n",
              "       [140],\n",
              "       [120],\n",
              "       [140],\n",
              "       [138],\n",
              "       [128],\n",
              "       [138],\n",
              "       [130],\n",
              "       [120],\n",
              "       [130],\n",
              "       [108],\n",
              "       [135],\n",
              "       [134],\n",
              "       [122],\n",
              "       [115],\n",
              "       [118],\n",
              "       [128],\n",
              "       [110],\n",
              "       [108],\n",
              "       [118],\n",
              "       [135],\n",
              "       [140],\n",
              "       [138],\n",
              "       [100],\n",
              "       [130],\n",
              "       [120],\n",
              "       [124],\n",
              "       [120],\n",
              "       [ 94],\n",
              "       [130],\n",
              "       [140],\n",
              "       [122],\n",
              "       [135],\n",
              "       [125],\n",
              "       [140],\n",
              "       [128],\n",
              "       [105],\n",
              "       [112],\n",
              "       [128],\n",
              "       [102],\n",
              "       [152],\n",
              "       [102],\n",
              "       [115],\n",
              "       [118],\n",
              "       [101],\n",
              "       [110],\n",
              "       [100],\n",
              "       [124],\n",
              "       [132],\n",
              "       [138],\n",
              "       [132],\n",
              "       [112],\n",
              "       [142],\n",
              "       [140],\n",
              "       [108],\n",
              "       [130],\n",
              "       [130],\n",
              "       [148],\n",
              "       [178],\n",
              "       [140],\n",
              "       [120],\n",
              "       [129],\n",
              "       [120],\n",
              "       [160],\n",
              "       [138],\n",
              "       [120],\n",
              "       [110],\n",
              "       [180],\n",
              "       [150],\n",
              "       [140],\n",
              "       [110],\n",
              "       [130],\n",
              "       [120],\n",
              "       [130],\n",
              "       [120],\n",
              "       [105],\n",
              "       [138],\n",
              "       [130],\n",
              "       [138],\n",
              "       [112],\n",
              "       [108],\n",
              "       [ 94],\n",
              "       [118],\n",
              "       [112],\n",
              "       [152],\n",
              "       [136],\n",
              "       [120],\n",
              "       [160],\n",
              "       [134],\n",
              "       [120],\n",
              "       [110],\n",
              "       [126],\n",
              "       [130],\n",
              "       [120],\n",
              "       [128],\n",
              "       [110],\n",
              "       [128],\n",
              "       [120],\n",
              "       [115],\n",
              "       [120],\n",
              "       [106],\n",
              "       [140],\n",
              "       [156],\n",
              "       [118],\n",
              "       [150],\n",
              "       [120],\n",
              "       [130],\n",
              "       [160],\n",
              "       [112],\n",
              "       [170],\n",
              "       [146],\n",
              "       [138],\n",
              "       [130],\n",
              "       [130],\n",
              "       [122],\n",
              "       [125],\n",
              "       [130],\n",
              "       [120],\n",
              "       [132],\n",
              "       [120],\n",
              "       [138],\n",
              "       [138],\n",
              "       [160],\n",
              "       [120],\n",
              "       [140],\n",
              "       [130],\n",
              "       [140],\n",
              "       [130],\n",
              "       [110],\n",
              "       [120],\n",
              "       [132],\n",
              "       [130],\n",
              "       [110],\n",
              "       [117],\n",
              "       [140],\n",
              "       [120],\n",
              "       [150],\n",
              "       [132],\n",
              "       [150],\n",
              "       [130],\n",
              "       [112],\n",
              "       [150],\n",
              "       [112],\n",
              "       [130],\n",
              "       [124],\n",
              "       [140],\n",
              "       [110],\n",
              "       [130],\n",
              "       [128],\n",
              "       [120],\n",
              "       [145],\n",
              "       [140],\n",
              "       [170],\n",
              "       [150],\n",
              "       [125],\n",
              "       [120],\n",
              "       [110],\n",
              "       [110],\n",
              "       [125],\n",
              "       [150],\n",
              "       [180],\n",
              "       [160],\n",
              "       [128],\n",
              "       [110],\n",
              "       [150],\n",
              "       [120],\n",
              "       [140],\n",
              "       [128],\n",
              "       [120],\n",
              "       [118],\n",
              "       [145],\n",
              "       [125],\n",
              "       [132],\n",
              "       [130],\n",
              "       [130],\n",
              "       [135],\n",
              "       [130],\n",
              "       [150],\n",
              "       [140],\n",
              "       [138],\n",
              "       [200],\n",
              "       [110],\n",
              "       [145],\n",
              "       [120],\n",
              "       [120],\n",
              "       [170],\n",
              "       [125],\n",
              "       [108],\n",
              "       [165],\n",
              "       [160],\n",
              "       [120],\n",
              "       [130],\n",
              "       [140],\n",
              "       [125],\n",
              "       [140],\n",
              "       [125],\n",
              "       [126],\n",
              "       [160],\n",
              "       [174],\n",
              "       [145],\n",
              "       [152],\n",
              "       [132],\n",
              "       [124],\n",
              "       [134],\n",
              "       [160],\n",
              "       [192],\n",
              "       [140],\n",
              "       [140],\n",
              "       [132],\n",
              "       [138],\n",
              "       [100],\n",
              "       [160],\n",
              "       [142],\n",
              "       [128],\n",
              "       [144],\n",
              "       [150],\n",
              "       [120],\n",
              "       [178],\n",
              "       [112],\n",
              "       [123],\n",
              "       [108],\n",
              "       [110],\n",
              "       [112],\n",
              "       [180],\n",
              "       [118],\n",
              "       [122],\n",
              "       [130],\n",
              "       [120],\n",
              "       [134],\n",
              "       [120],\n",
              "       [100],\n",
              "       [110],\n",
              "       [125],\n",
              "       [146],\n",
              "       [124],\n",
              "       [136],\n",
              "       [138],\n",
              "       [136],\n",
              "       [128],\n",
              "       [126],\n",
              "       [152],\n",
              "       [140],\n",
              "       [140],\n",
              "       [134],\n",
              "       [154],\n",
              "       [110],\n",
              "       [128],\n",
              "       [148],\n",
              "       [114],\n",
              "       [170],\n",
              "       [152],\n",
              "       [120],\n",
              "       [140],\n",
              "       [124],\n",
              "       [164],\n",
              "       [140],\n",
              "       [110],\n",
              "       [144],\n",
              "       [130],\n",
              "       [130]])"
            ]
          },
          "metadata": {},
          "execution_count": 116
        }
      ]
    },
    {
      "cell_type": "code",
      "source": [
        "y1=df.iloc[0:303,8].values\n",
        "y1"
      ],
      "metadata": {
        "colab": {
          "base_uri": "https://localhost:8080/"
        },
        "id": "6oSyYzXwHnfY",
        "outputId": "fd7db546-fe9c-4075-8532-b358db939a07"
      },
      "execution_count": 117,
      "outputs": [
        {
          "output_type": "execute_result",
          "data": {
            "text/plain": [
              "array([150, 187, 172, 178, 163, 148, 153, 173, 162, 174, 160, 139, 171,\n",
              "       144, 162, 158, 172, 114, 171, 151, 161, 179, 178, 137, 178, 162,\n",
              "       157, 123, 157, 152, 168, 140, 188, 152, 125, 160, 170, 165, 148,\n",
              "       151, 142, 180, 148, 143, 182, 172, 180, 156, 115, 160, 149, 151,\n",
              "       146, 175, 172, 158, 186, 185, 174, 159, 130, 156, 190, 132, 165,\n",
              "       182, 143, 175, 170, 163, 147, 154, 202, 186, 165, 161, 166, 164,\n",
              "       184, 154, 179, 170, 160, 178, 122, 160, 151, 156, 158, 122, 175,\n",
              "       168, 169, 159, 138, 111, 157, 147, 162, 173, 178, 145, 179, 194,\n",
              "       163, 115, 131, 152, 162, 159, 154, 173, 133, 161, 155, 170, 168,\n",
              "       162, 172, 152, 122, 182, 172, 167, 179, 192, 143, 172, 169, 121,\n",
              "       163, 162, 162, 153, 163, 163,  96, 140, 126, 105, 157, 181, 173,\n",
              "       142, 116, 143, 149, 171, 169, 150, 138, 125, 155, 152, 152, 131,\n",
              "       179, 174, 144, 163, 169, 166, 182, 173, 173, 108, 129, 160, 147,\n",
              "       155, 142, 168, 160, 173, 132, 114, 160, 158, 120, 112, 132, 114,\n",
              "       169, 165, 128, 153, 144, 109, 163, 158, 142, 131, 113, 142, 155,\n",
              "       140, 147, 163,  99, 158, 177, 141, 111, 150, 145, 161, 142, 157,\n",
              "       139, 162, 150, 140, 140, 146, 144, 136,  97, 132, 127, 150, 154,\n",
              "       111, 174, 133, 126, 125, 103, 130, 159, 131, 152, 124, 145,  96,\n",
              "       109, 173, 171, 170, 162, 156, 112, 143, 132,  88, 105, 166, 150,\n",
              "       120, 195, 146, 122, 143, 106, 125, 125, 147, 130, 126, 154, 182,\n",
              "       165, 160,  95, 169, 108, 132, 117, 126, 116, 103, 144, 145,  71,\n",
              "       156, 118, 168, 105, 141, 152, 125, 125, 156, 134, 181, 138, 120,\n",
              "       162, 164, 143, 130, 161, 140, 146, 150, 144, 144, 136,  90, 123,\n",
              "       132, 141, 115, 174])"
            ]
          },
          "metadata": {},
          "execution_count": 117
        }
      ]
    },
    {
      "cell_type": "code",
      "source": [
        "model.fit(x1,y1)"
      ],
      "metadata": {
        "colab": {
          "base_uri": "https://localhost:8080/",
          "height": 74
        },
        "id": "knnQYP01HrCL",
        "outputId": "7b953bbf-454e-4ae1-afba-457f318015b6"
      },
      "execution_count": 118,
      "outputs": [
        {
          "output_type": "execute_result",
          "data": {
            "text/plain": [
              "LinearRegression()"
            ],
            "text/html": [
              "<style>#sk-container-id-2 {color: black;background-color: white;}#sk-container-id-2 pre{padding: 0;}#sk-container-id-2 div.sk-toggleable {background-color: white;}#sk-container-id-2 label.sk-toggleable__label {cursor: pointer;display: block;width: 100%;margin-bottom: 0;padding: 0.3em;box-sizing: border-box;text-align: center;}#sk-container-id-2 label.sk-toggleable__label-arrow:before {content: \"▸\";float: left;margin-right: 0.25em;color: #696969;}#sk-container-id-2 label.sk-toggleable__label-arrow:hover:before {color: black;}#sk-container-id-2 div.sk-estimator:hover label.sk-toggleable__label-arrow:before {color: black;}#sk-container-id-2 div.sk-toggleable__content {max-height: 0;max-width: 0;overflow: hidden;text-align: left;background-color: #f0f8ff;}#sk-container-id-2 div.sk-toggleable__content pre {margin: 0.2em;color: black;border-radius: 0.25em;background-color: #f0f8ff;}#sk-container-id-2 input.sk-toggleable__control:checked~div.sk-toggleable__content {max-height: 200px;max-width: 100%;overflow: auto;}#sk-container-id-2 input.sk-toggleable__control:checked~label.sk-toggleable__label-arrow:before {content: \"▾\";}#sk-container-id-2 div.sk-estimator input.sk-toggleable__control:checked~label.sk-toggleable__label {background-color: #d4ebff;}#sk-container-id-2 div.sk-label input.sk-toggleable__control:checked~label.sk-toggleable__label {background-color: #d4ebff;}#sk-container-id-2 input.sk-hidden--visually {border: 0;clip: rect(1px 1px 1px 1px);clip: rect(1px, 1px, 1px, 1px);height: 1px;margin: -1px;overflow: hidden;padding: 0;position: absolute;width: 1px;}#sk-container-id-2 div.sk-estimator {font-family: monospace;background-color: #f0f8ff;border: 1px dotted black;border-radius: 0.25em;box-sizing: border-box;margin-bottom: 0.5em;}#sk-container-id-2 div.sk-estimator:hover {background-color: #d4ebff;}#sk-container-id-2 div.sk-parallel-item::after {content: \"\";width: 100%;border-bottom: 1px solid gray;flex-grow: 1;}#sk-container-id-2 div.sk-label:hover label.sk-toggleable__label {background-color: #d4ebff;}#sk-container-id-2 div.sk-serial::before {content: \"\";position: absolute;border-left: 1px solid gray;box-sizing: border-box;top: 0;bottom: 0;left: 50%;z-index: 0;}#sk-container-id-2 div.sk-serial {display: flex;flex-direction: column;align-items: center;background-color: white;padding-right: 0.2em;padding-left: 0.2em;position: relative;}#sk-container-id-2 div.sk-item {position: relative;z-index: 1;}#sk-container-id-2 div.sk-parallel {display: flex;align-items: stretch;justify-content: center;background-color: white;position: relative;}#sk-container-id-2 div.sk-item::before, #sk-container-id-2 div.sk-parallel-item::before {content: \"\";position: absolute;border-left: 1px solid gray;box-sizing: border-box;top: 0;bottom: 0;left: 50%;z-index: -1;}#sk-container-id-2 div.sk-parallel-item {display: flex;flex-direction: column;z-index: 1;position: relative;background-color: white;}#sk-container-id-2 div.sk-parallel-item:first-child::after {align-self: flex-end;width: 50%;}#sk-container-id-2 div.sk-parallel-item:last-child::after {align-self: flex-start;width: 50%;}#sk-container-id-2 div.sk-parallel-item:only-child::after {width: 0;}#sk-container-id-2 div.sk-dashed-wrapped {border: 1px dashed gray;margin: 0 0.4em 0.5em 0.4em;box-sizing: border-box;padding-bottom: 0.4em;background-color: white;}#sk-container-id-2 div.sk-label label {font-family: monospace;font-weight: bold;display: inline-block;line-height: 1.2em;}#sk-container-id-2 div.sk-label-container {text-align: center;}#sk-container-id-2 div.sk-container {/* jupyter's `normalize.less` sets `[hidden] { display: none; }` but bootstrap.min.css set `[hidden] { display: none !important; }` so we also need the `!important` here to be able to override the default hidden behavior on the sphinx rendered scikit-learn.org. See: https://github.com/scikit-learn/scikit-learn/issues/21755 */display: inline-block !important;position: relative;}#sk-container-id-2 div.sk-text-repr-fallback {display: none;}</style><div id=\"sk-container-id-2\" class=\"sk-top-container\"><div class=\"sk-text-repr-fallback\"><pre>LinearRegression()</pre><b>In a Jupyter environment, please rerun this cell to show the HTML representation or trust the notebook. <br />On GitHub, the HTML representation is unable to render, please try loading this page with nbviewer.org.</b></div><div class=\"sk-container\" hidden><div class=\"sk-item\"><div class=\"sk-estimator sk-toggleable\"><input class=\"sk-toggleable__control sk-hidden--visually\" id=\"sk-estimator-id-2\" type=\"checkbox\" checked><label for=\"sk-estimator-id-2\" class=\"sk-toggleable__label sk-toggleable__label-arrow\">LinearRegression</label><div class=\"sk-toggleable__content\"><pre>LinearRegression()</pre></div></div></div></div></div>"
            ]
          },
          "metadata": {},
          "execution_count": 118
        }
      ]
    },
    {
      "cell_type": "code",
      "source": [
        "y1_pred=model.predict(x1)\n",
        "y1_pred"
      ],
      "metadata": {
        "colab": {
          "base_uri": "https://localhost:8080/"
        },
        "id": "hrA8N81RH4jJ",
        "outputId": "9dd4b5fc-f89a-42b5-ff61-c93c0f02dafa"
      },
      "execution_count": 120,
      "outputs": [
        {
          "output_type": "execute_result",
          "data": {
            "text/plain": [
              "array([148.83107262, 149.74589496, 149.74589496, 150.35577652,\n",
              "       150.35577652, 149.1360134 , 149.1360134 , 150.35577652,\n",
              "       147.18439241, 148.52613184, 149.1360134 , 149.74589496,\n",
              "       149.74589496, 150.96565808, 148.52613184, 150.35577652,\n",
              "       150.35577652, 148.52613184, 148.52613184, 149.1360134 ,\n",
              "       149.44095418, 149.74589496, 149.1360134 , 148.52613184,\n",
              "       149.1360134 , 147.91625028, 148.52613184, 150.96565808,\n",
              "       149.1360134 , 149.74589496, 151.27059886, 150.35577652,\n",
              "       149.74589496, 150.05083574, 150.05083574, 149.01403709,\n",
              "       149.44095418, 148.52613184, 148.22119106, 147.91625028,\n",
              "       149.1360134 , 149.74589496, 151.33158701, 149.74589496,\n",
              "       149.1360134 , 150.35577652, 149.1360134 , 149.25798971,\n",
              "       149.86787127, 149.25798971, 149.74589496, 150.35577652,\n",
              "       149.74589496, 151.08763439, 149.44095418, 149.50194234,\n",
              "       150.23380021, 150.6607173 , 150.47775283, 149.86787127,\n",
              "       150.96565808, 151.08763439, 150.47775283, 149.44095418,\n",
              "       149.1360134 , 149.25798971, 151.57553963, 149.74589496,\n",
              "       150.35577652, 150.11182389, 150.35577652, 151.94146857,\n",
              "       149.74589496, 149.1360134 , 150.23380021, 149.44095418,\n",
              "       150.05083574, 149.1360134 , 149.86787127, 151.27059886,\n",
              "       150.84368176, 149.86787127, 151.45356332, 148.40415553,\n",
              "       151.45356332, 150.6607173 , 150.47775283, 151.51455148,\n",
              "       150.96565808, 151.57553963, 150.11182389, 149.62391865,\n",
              "       149.25798971, 149.62391865, 150.84368176, 149.01403709,\n",
              "       149.1360134 , 151.08763439, 149.74589496, 149.74589496,\n",
              "       148.64810815, 146.81846348, 149.1360134 , 150.35577652,\n",
              "       149.80688312, 150.35577652, 147.91625028, 149.25798971,\n",
              "       150.35577652, 150.96565808, 146.69648717, 148.52613184,\n",
              "       149.1360134 , 150.96565808, 149.74589496, 150.35577652,\n",
              "       149.74589496, 150.35577652, 151.27059886, 149.25798971,\n",
              "       149.74589496, 149.25798971, 150.84368176, 151.08763439,\n",
              "       151.94146857, 150.47775283, 150.84368176, 148.40415553,\n",
              "       149.37996602, 150.35577652, 147.91625028, 149.50194234,\n",
              "       150.35577652, 150.96565808, 149.98984758, 149.74589496,\n",
              "       150.35577652, 149.86787127, 150.96565808, 149.86787127,\n",
              "       150.35577652, 150.6607173 , 150.35577652, 151.2096107 ,\n",
              "       149.1360134 , 148.16020291, 150.47775283, 148.52613184,\n",
              "       150.35577652, 149.74589496, 147.91625028, 150.84368176,\n",
              "       147.30636873, 148.77008447, 149.25798971, 149.74589496,\n",
              "       149.74589496, 150.23380021, 150.05083574, 149.74589496,\n",
              "       150.35577652, 149.62391865, 150.35577652, 149.25798971,\n",
              "       149.25798971, 147.91625028, 150.35577652, 149.1360134 ,\n",
              "       149.74589496, 149.1360134 , 149.74589496, 150.96565808,\n",
              "       150.35577652, 149.62391865, 149.74589496, 150.96565808,\n",
              "       150.53874099, 149.1360134 , 150.35577652, 148.52613184,\n",
              "       149.62391865, 148.52613184, 149.74589496, 150.84368176,\n",
              "       148.52613184, 150.84368176, 149.74589496, 150.11182389,\n",
              "       149.1360134 , 150.96565808, 149.74589496, 149.86787127,\n",
              "       150.35577652, 148.83107262, 149.1360134 , 147.30636873,\n",
              "       148.52613184, 150.05083574, 150.35577652, 150.96565808,\n",
              "       150.96565808, 150.05083574, 148.52613184, 146.69648717,\n",
              "       147.91625028, 149.86787127, 150.96565808, 148.52613184,\n",
              "       150.35577652, 149.1360134 , 149.86787127, 150.35577652,\n",
              "       150.47775283, 148.83107262, 150.05083574, 149.62391865,\n",
              "       149.74589496, 149.74589496, 149.44095418, 149.74589496,\n",
              "       148.52613184, 149.1360134 , 149.25798971, 145.47672405,\n",
              "       150.96565808, 148.83107262, 150.35577652, 150.35577652,\n",
              "       147.30636873, 150.05083574, 151.08763439, 147.61130951,\n",
              "       147.91625028, 150.35577652, 149.74589496, 149.1360134 ,\n",
              "       150.05083574, 149.1360134 , 150.05083574, 149.98984758,\n",
              "       147.91625028, 147.0624161 , 148.83107262, 148.40415553,\n",
              "       149.62391865, 150.11182389, 149.50194234, 147.91625028,\n",
              "       145.9646293 , 149.1360134 , 149.1360134 , 149.62391865,\n",
              "       149.25798971, 151.57553963, 147.91625028, 149.01403709,\n",
              "       149.86787127, 148.89206078, 148.52613184, 150.35577652,\n",
              "       146.81846348, 150.84368176, 150.17281205, 151.08763439,\n",
              "       150.96565808, 150.84368176, 146.69648717, 150.47775283,\n",
              "       150.23380021, 149.74589496, 150.35577652, 149.50194234,\n",
              "       150.35577652, 151.57553963, 150.96565808, 150.05083574,\n",
              "       148.77008447, 150.11182389, 149.37996602, 149.25798971,\n",
              "       149.37996602, 149.86787127, 149.98984758, 148.40415553,\n",
              "       149.1360134 , 149.1360134 , 149.50194234, 148.28217922,\n",
              "       150.96565808, 149.86787127, 148.64810815, 150.72170545,\n",
              "       147.30636873, 148.40415553, 150.35577652, 149.1360134 ,\n",
              "       150.11182389, 147.67229766, 149.1360134 , 150.96565808,\n",
              "       148.89206078, 149.74589496, 149.74589496])"
            ]
          },
          "metadata": {},
          "execution_count": 120
        }
      ]
    },
    {
      "cell_type": "code",
      "source": [
        "y1"
      ],
      "metadata": {
        "colab": {
          "base_uri": "https://localhost:8080/"
        },
        "id": "IhF9veplIBOd",
        "outputId": "5ef5e411-3402-45fd-8fd3-043cf7815fb8"
      },
      "execution_count": 121,
      "outputs": [
        {
          "output_type": "execute_result",
          "data": {
            "text/plain": [
              "array([150, 187, 172, 178, 163, 148, 153, 173, 162, 174, 160, 139, 171,\n",
              "       144, 162, 158, 172, 114, 171, 151, 161, 179, 178, 137, 178, 162,\n",
              "       157, 123, 157, 152, 168, 140, 188, 152, 125, 160, 170, 165, 148,\n",
              "       151, 142, 180, 148, 143, 182, 172, 180, 156, 115, 160, 149, 151,\n",
              "       146, 175, 172, 158, 186, 185, 174, 159, 130, 156, 190, 132, 165,\n",
              "       182, 143, 175, 170, 163, 147, 154, 202, 186, 165, 161, 166, 164,\n",
              "       184, 154, 179, 170, 160, 178, 122, 160, 151, 156, 158, 122, 175,\n",
              "       168, 169, 159, 138, 111, 157, 147, 162, 173, 178, 145, 179, 194,\n",
              "       163, 115, 131, 152, 162, 159, 154, 173, 133, 161, 155, 170, 168,\n",
              "       162, 172, 152, 122, 182, 172, 167, 179, 192, 143, 172, 169, 121,\n",
              "       163, 162, 162, 153, 163, 163,  96, 140, 126, 105, 157, 181, 173,\n",
              "       142, 116, 143, 149, 171, 169, 150, 138, 125, 155, 152, 152, 131,\n",
              "       179, 174, 144, 163, 169, 166, 182, 173, 173, 108, 129, 160, 147,\n",
              "       155, 142, 168, 160, 173, 132, 114, 160, 158, 120, 112, 132, 114,\n",
              "       169, 165, 128, 153, 144, 109, 163, 158, 142, 131, 113, 142, 155,\n",
              "       140, 147, 163,  99, 158, 177, 141, 111, 150, 145, 161, 142, 157,\n",
              "       139, 162, 150, 140, 140, 146, 144, 136,  97, 132, 127, 150, 154,\n",
              "       111, 174, 133, 126, 125, 103, 130, 159, 131, 152, 124, 145,  96,\n",
              "       109, 173, 171, 170, 162, 156, 112, 143, 132,  88, 105, 166, 150,\n",
              "       120, 195, 146, 122, 143, 106, 125, 125, 147, 130, 126, 154, 182,\n",
              "       165, 160,  95, 169, 108, 132, 117, 126, 116, 103, 144, 145,  71,\n",
              "       156, 118, 168, 105, 141, 152, 125, 125, 156, 134, 181, 138, 120,\n",
              "       162, 164, 143, 130, 161, 140, 146, 150, 144, 144, 136,  90, 123,\n",
              "       132, 141, 115, 174])"
            ]
          },
          "metadata": {},
          "execution_count": 121
        }
      ]
    },
    {
      "cell_type": "code",
      "source": [
        "#CONCLUSION: We have to compare the corresponding values of y and y_pred.\n",
        "#So when we compare , we come to know , that there is a huge difference\n",
        "#This huge difference does not mean that our model has predicted wrong\n",
        "#It only means , that our model is NOT LINEAR/LESS LINEAR\n",
        "#LINEARITY of a model ,depends on the NATURE of the data as well as the SIZE of the data."
      ],
      "metadata": {
        "id": "RoMIwvu-IKDv"
      },
      "execution_count": 122,
      "outputs": []
    },
    {
      "cell_type": "code",
      "source": [
        "#Indivisual predication\n",
        "model.predict([[110]])"
      ],
      "metadata": {
        "colab": {
          "base_uri": "https://localhost:8080/"
        },
        "id": "n5aceKqoIQht",
        "outputId": "5da43150-8335-4e4d-a9f9-45884a75b209"
      },
      "execution_count": 123,
      "outputs": [
        {
          "output_type": "execute_result",
          "data": {
            "text/plain": [
              "array([150.96565808])"
            ]
          },
          "metadata": {},
          "execution_count": 123
        }
      ]
    },
    {
      "cell_type": "code",
      "source": [
        "#CROSS VERIFICATION\n",
        "#y1 = m1x1 + C1 #Equation of a Straight line\n",
        "#m1 - Slope\n",
        "#C1 - Constant/y-intercept\n",
        "#y1 - dependant variable\n",
        "#x1 - independant variable"
      ],
      "metadata": {
        "id": "eh7qqfOHIa0_"
      },
      "execution_count": 124,
      "outputs": []
    },
    {
      "cell_type": "code",
      "source": [
        "m1 = model.coef_ #slope(m)\n",
        "m1"
      ],
      "metadata": {
        "colab": {
          "base_uri": "https://localhost:8080/"
        },
        "id": "wcBd1dNUIg_y",
        "outputId": "1dec097a-377d-4575-a768-b39b4d117d1b"
      },
      "execution_count": 125,
      "outputs": [
        {
          "output_type": "execute_result",
          "data": {
            "text/plain": [
              "array([-0.06098816])"
            ]
          },
          "metadata": {},
          "execution_count": 125
        }
      ]
    },
    {
      "cell_type": "code",
      "source": [
        "C1 = model.intercept_ # constant/y-intercept\n",
        "C1"
      ],
      "metadata": {
        "colab": {
          "base_uri": "https://localhost:8080/"
        },
        "id": "QlLx6OsfItcO",
        "outputId": "34dc8625-2014-4723-9bb2-b3b80a81572c"
      },
      "execution_count": 126,
      "outputs": [
        {
          "output_type": "execute_result",
          "data": {
            "text/plain": [
              "157.6743552175751"
            ]
          },
          "metadata": {},
          "execution_count": 126
        }
      ]
    },
    {
      "cell_type": "code",
      "source": [
        "#y1 = m1x1 +C1\n",
        "m1*110 + C1"
      ],
      "metadata": {
        "colab": {
          "base_uri": "https://localhost:8080/"
        },
        "id": "Os7PH5qKIyPY",
        "outputId": "9fb1a952-9e18-45fa-9535-b51578925883"
      },
      "execution_count": 128,
      "outputs": [
        {
          "output_type": "execute_result",
          "data": {
            "text/plain": [
              "array([150.96565808])"
            ]
          },
          "metadata": {},
          "execution_count": 128
        }
      ]
    },
    {
      "cell_type": "code",
      "source": [
        "#FINAL VISUALISATION - BEST FIT LINE\n",
        "\n",
        "plt.scatter(x1,y1) #ACTUAL VALUES\n",
        "plt.plot(x1,y1_pred,c = 'orange') #PREDICTED VALUES\n",
        "plt.title('BEST FIT LINE')\n",
        "plt.xlabel('trestbps')\n",
        "plt.ylabel('thalach')"
      ],
      "metadata": {
        "colab": {
          "base_uri": "https://localhost:8080/",
          "height": 312
        },
        "id": "l4nN28G0I2tG",
        "outputId": "52633581-f91d-478b-ca94-cdd91f17c891"
      },
      "execution_count": 129,
      "outputs": [
        {
          "output_type": "execute_result",
          "data": {
            "text/plain": [
              "Text(0, 0.5, 'thalach')"
            ]
          },
          "metadata": {},
          "execution_count": 129
        },
        {
          "output_type": "display_data",
          "data": {
            "text/plain": [
              "<Figure size 432x288 with 1 Axes>"
            ],
            "image/png": "[encoded data removed]"
          },
          "metadata": {
            "needs_background": "light"
          }
        }
      ]
    },
    {
      "cell_type": "code",
      "source": [
        "x2=df.iloc[0:303,5:6].values\n",
        "x2"
      ],
      "metadata": {
        "colab": {
          "base_uri": "https://localhost:8080/"
        },
        "id": "Y0zwh4CeJMN1",
        "outputId": "709505df-44fc-4793-dfc5-03c1651df61d"
      },
      "execution_count": 132,
      "outputs": [
        {
          "output_type": "execute_result",
          "data": {
            "text/plain": [
              "array([[233],\n",
              "       [250],\n",
              "       [204],\n",
              "       [236],\n",
              "       [354],\n",
              "       [192],\n",
              "       [294],\n",
              "       [263],\n",
              "       [199],\n",
              "       [168],\n",
              "       [239],\n",
              "       [275],\n",
              "       [266],\n",
              "       [211],\n",
              "       [283],\n",
              "       [219],\n",
              "       [340],\n",
              "       [226],\n",
              "       [247],\n",
              "       [239],\n",
              "       [234],\n",
              "       [233],\n",
              "       [226],\n",
              "       [243],\n",
              "       [199],\n",
              "       [302],\n",
              "       [212],\n",
              "       [175],\n",
              "       [417],\n",
              "       [197],\n",
              "       [198],\n",
              "       [177],\n",
              "       [219],\n",
              "       [273],\n",
              "       [213],\n",
              "       [177],\n",
              "       [304],\n",
              "       [232],\n",
              "       [269],\n",
              "       [360],\n",
              "       [308],\n",
              "       [245],\n",
              "       [208],\n",
              "       [264],\n",
              "       [321],\n",
              "       [325],\n",
              "       [235],\n",
              "       [257],\n",
              "       [216],\n",
              "       [234],\n",
              "       [256],\n",
              "       [302],\n",
              "       [231],\n",
              "       [141],\n",
              "       [252],\n",
              "       [201],\n",
              "       [222],\n",
              "       [260],\n",
              "       [182],\n",
              "       [303],\n",
              "       [265],\n",
              "       [309],\n",
              "       [186],\n",
              "       [203],\n",
              "       [211],\n",
              "       [183],\n",
              "       [222],\n",
              "       [234],\n",
              "       [220],\n",
              "       [209],\n",
              "       [258],\n",
              "       [227],\n",
              "       [204],\n",
              "       [261],\n",
              "       [213],\n",
              "       [250],\n",
              "       [245],\n",
              "       [221],\n",
              "       [205],\n",
              "       [240],\n",
              "       [250],\n",
              "       [308],\n",
              "       [318],\n",
              "       [298],\n",
              "       [265],\n",
              "       [564],\n",
              "       [277],\n",
              "       [197],\n",
              "       [214],\n",
              "       [248],\n",
              "       [255],\n",
              "       [207],\n",
              "       [223],\n",
              "       [288],\n",
              "       [160],\n",
              "       [226],\n",
              "       [394],\n",
              "       [233],\n",
              "       [315],\n",
              "       [246],\n",
              "       [244],\n",
              "       [270],\n",
              "       [195],\n",
              "       [240],\n",
              "       [196],\n",
              "       [211],\n",
              "       [234],\n",
              "       [236],\n",
              "       [244],\n",
              "       [254],\n",
              "       [325],\n",
              "       [126],\n",
              "       [313],\n",
              "       [211],\n",
              "       [262],\n",
              "       [215],\n",
              "       [214],\n",
              "       [193],\n",
              "       [204],\n",
              "       [243],\n",
              "       [303],\n",
              "       [271],\n",
              "       [268],\n",
              "       [267],\n",
              "       [199],\n",
              "       [210],\n",
              "       [204],\n",
              "       [277],\n",
              "       [196],\n",
              "       [269],\n",
              "       [201],\n",
              "       [271],\n",
              "       [295],\n",
              "       [235],\n",
              "       [306],\n",
              "       [269],\n",
              "       [178],\n",
              "       [208],\n",
              "       [201],\n",
              "       [263],\n",
              "       [295],\n",
              "       [303],\n",
              "       [209],\n",
              "       [223],\n",
              "       [197],\n",
              "       [245],\n",
              "       [242],\n",
              "       [240],\n",
              "       [226],\n",
              "       [180],\n",
              "       [228],\n",
              "       [149],\n",
              "       [227],\n",
              "       [278],\n",
              "       [220],\n",
              "       [197],\n",
              "       [253],\n",
              "       [192],\n",
              "       [220],\n",
              "       [221],\n",
              "       [240],\n",
              "       [342],\n",
              "       [157],\n",
              "       [175],\n",
              "       [175],\n",
              "       [286],\n",
              "       [229],\n",
              "       [268],\n",
              "       [254],\n",
              "       [203],\n",
              "       [256],\n",
              "       [229],\n",
              "       [284],\n",
              "       [224],\n",
              "       [206],\n",
              "       [167],\n",
              "       [230],\n",
              "       [335],\n",
              "       [177],\n",
              "       [276],\n",
              "       [353],\n",
              "       [225],\n",
              "       [330],\n",
              "       [230],\n",
              "       [243],\n",
              "       [290],\n",
              "       [253],\n",
              "       [266],\n",
              "       [233],\n",
              "       [172],\n",
              "       [305],\n",
              "       [216],\n",
              "       [188],\n",
              "       [282],\n",
              "       [185],\n",
              "       [326],\n",
              "       [231],\n",
              "       [254],\n",
              "       [267],\n",
              "       [248],\n",
              "       [197],\n",
              "       [258],\n",
              "       [270],\n",
              "       [274],\n",
              "       [164],\n",
              "       [255],\n",
              "       [239],\n",
              "       [258],\n",
              "       [188],\n",
              "       [177],\n",
              "       [229],\n",
              "       [260],\n",
              "       [219],\n",
              "       [307],\n",
              "       [249],\n",
              "       [341],\n",
              "       [263],\n",
              "       [330],\n",
              "       [254],\n",
              "       [256],\n",
              "       [407],\n",
              "       [217],\n",
              "       [282],\n",
              "       [288],\n",
              "       [239],\n",
              "       [174],\n",
              "       [281],\n",
              "       [198],\n",
              "       [288],\n",
              "       [309],\n",
              "       [243],\n",
              "       [289],\n",
              "       [289],\n",
              "       [246],\n",
              "       [322],\n",
              "       [299],\n",
              "       [300],\n",
              "       [293],\n",
              "       [304],\n",
              "       [282],\n",
              "       [269],\n",
              "       [249],\n",
              "       [212],\n",
              "       [274],\n",
              "       [184],\n",
              "       [274],\n",
              "       [409],\n",
              "       [246],\n",
              "       [283],\n",
              "       [254],\n",
              "       [298],\n",
              "       [247],\n",
              "       [294],\n",
              "       [299],\n",
              "       [273],\n",
              "       [309],\n",
              "       [259],\n",
              "       [200],\n",
              "       [244],\n",
              "       [231],\n",
              "       [228],\n",
              "       [230],\n",
              "       [282],\n",
              "       [269],\n",
              "       [206],\n",
              "       [212],\n",
              "       [327],\n",
              "       [149],\n",
              "       [286],\n",
              "       [283],\n",
              "       [249],\n",
              "       [234],\n",
              "       [237],\n",
              "       [234],\n",
              "       [275],\n",
              "       [212],\n",
              "       [218],\n",
              "       [261],\n",
              "       [319],\n",
              "       [166],\n",
              "       [315],\n",
              "       [204],\n",
              "       [218],\n",
              "       [223],\n",
              "       [207],\n",
              "       [311],\n",
              "       [204],\n",
              "       [232],\n",
              "       [335],\n",
              "       [205],\n",
              "       [203],\n",
              "       [318],\n",
              "       [225],\n",
              "       [212],\n",
              "       [169],\n",
              "       [187],\n",
              "       [197],\n",
              "       [176],\n",
              "       [241],\n",
              "       [264],\n",
              "       [193],\n",
              "       [131],\n",
              "       [236]])"
            ]
          },
          "metadata": {},
          "execution_count": 132
        }
      ]
    },
    {
      "cell_type": "code",
      "source": [
        "y2=df.iloc[0:303,8].values\n",
        "y2"
      ],
      "metadata": {
        "colab": {
          "base_uri": "https://localhost:8080/"
        },
        "id": "H0sR61WLJarm",
        "outputId": "0a98d6ca-2d93-401c-800a-3a7f2d69f8a9"
      },
      "execution_count": 131,
      "outputs": [
        {
          "output_type": "execute_result",
          "data": {
            "text/plain": [
              "array([150, 187, 172, 178, 163, 148, 153, 173, 162, 174, 160, 139, 171,\n",
              "       144, 162, 158, 172, 114, 171, 151, 161, 179, 178, 137, 178, 162,\n",
              "       157, 123, 157, 152, 168, 140, 188, 152, 125, 160, 170, 165, 148,\n",
              "       151, 142, 180, 148, 143, 182, 172, 180, 156, 115, 160, 149, 151,\n",
              "       146, 175, 172, 158, 186, 185, 174, 159, 130, 156, 190, 132, 165,\n",
              "       182, 143, 175, 170, 163, 147, 154, 202, 186, 165, 161, 166, 164,\n",
              "       184, 154, 179, 170, 160, 178, 122, 160, 151, 156, 158, 122, 175,\n",
              "       168, 169, 159, 138, 111, 157, 147, 162, 173, 178, 145, 179, 194,\n",
              "       163, 115, 131, 152, 162, 159, 154, 173, 133, 161, 155, 170, 168,\n",
              "       162, 172, 152, 122, 182, 172, 167, 179, 192, 143, 172, 169, 121,\n",
              "       163, 162, 162, 153, 163, 163,  96, 140, 126, 105, 157, 181, 173,\n",
              "       142, 116, 143, 149, 171, 169, 150, 138, 125, 155, 152, 152, 131,\n",
              "       179, 174, 144, 163, 169, 166, 182, 173, 173, 108, 129, 160, 147,\n",
              "       155, 142, 168, 160, 173, 132, 114, 160, 158, 120, 112, 132, 114,\n",
              "       169, 165, 128, 153, 144, 109, 163, 158, 142, 131, 113, 142, 155,\n",
              "       140, 147, 163,  99, 158, 177, 141, 111, 150, 145, 161, 142, 157,\n",
              "       139, 162, 150, 140, 140, 146, 144, 136,  97, 132, 127, 150, 154,\n",
              "       111, 174, 133, 126, 125, 103, 130, 159, 131, 152, 124, 145,  96,\n",
              "       109, 173, 171, 170, 162, 156, 112, 143, 132,  88, 105, 166, 150,\n",
              "       120, 195, 146, 122, 143, 106, 125, 125, 147, 130, 126, 154, 182,\n",
              "       165, 160,  95, 169, 108, 132, 117, 126, 116, 103, 144, 145,  71,\n",
              "       156, 118, 168, 105, 141, 152, 125, 125, 156, 134, 181, 138, 120,\n",
              "       162, 164, 143, 130, 161, 140, 146, 150, 144, 144, 136,  90, 123,\n",
              "       132, 141, 115, 174])"
            ]
          },
          "metadata": {},
          "execution_count": 131
        }
      ]
    },
    {
      "cell_type": "code",
      "source": [
        "model.fit(x2,y2)"
      ],
      "metadata": {
        "colab": {
          "base_uri": "https://localhost:8080/",
          "height": 74
        },
        "id": "TeaLSDVUJfvX",
        "outputId": "940ab9ba-f767-4da4-8148-6815a31c3975"
      },
      "execution_count": 133,
      "outputs": [
        {
          "output_type": "execute_result",
          "data": {
            "text/plain": [
              "LinearRegression()"
            ],
            "text/html": [
              "<style>#sk-container-id-3 {color: black;background-color: white;}#sk-container-id-3 pre{padding: 0;}#sk-container-id-3 div.sk-toggleable {background-color: white;}#sk-container-id-3 label.sk-toggleable__label {cursor: pointer;display: block;width: 100%;margin-bottom: 0;padding: 0.3em;box-sizing: border-box;text-align: center;}#sk-container-id-3 label.sk-toggleable__label-arrow:before {content: \"▸\";float: left;margin-right: 0.25em;color: #696969;}#sk-container-id-3 label.sk-toggleable__label-arrow:hover:before {color: black;}#sk-container-id-3 div.sk-estimator:hover label.sk-toggleable__label-arrow:before {color: black;}#sk-container-id-3 div.sk-toggleable__content {max-height: 0;max-width: 0;overflow: hidden;text-align: left;background-color: #f0f8ff;}#sk-container-id-3 div.sk-toggleable__content pre {margin: 0.2em;color: black;border-radius: 0.25em;background-color: #f0f8ff;}#sk-container-id-3 input.sk-toggleable__control:checked~div.sk-toggleable__content {max-height: 200px;max-width: 100%;overflow: auto;}#sk-container-id-3 input.sk-toggleable__control:checked~label.sk-toggleable__label-arrow:before {content: \"▾\";}#sk-container-id-3 div.sk-estimator input.sk-toggleable__control:checked~label.sk-toggleable__label {background-color: #d4ebff;}#sk-container-id-3 div.sk-label input.sk-toggleable__control:checked~label.sk-toggleable__label {background-color: #d4ebff;}#sk-container-id-3 input.sk-hidden--visually {border: 0;clip: rect(1px 1px 1px 1px);clip: rect(1px, 1px, 1px, 1px);height: 1px;margin: -1px;overflow: hidden;padding: 0;position: absolute;width: 1px;}#sk-container-id-3 div.sk-estimator {font-family: monospace;background-color: #f0f8ff;border: 1px dotted black;border-radius: 0.25em;box-sizing: border-box;margin-bottom: 0.5em;}#sk-container-id-3 div.sk-estimator:hover {background-color: #d4ebff;}#sk-container-id-3 div.sk-parallel-item::after {content: \"\";width: 100%;border-bottom: 1px solid gray;flex-grow: 1;}#sk-container-id-3 div.sk-label:hover label.sk-toggleable__label {background-color: #d4ebff;}#sk-container-id-3 div.sk-serial::before {content: \"\";position: absolute;border-left: 1px solid gray;box-sizing: border-box;top: 0;bottom: 0;left: 50%;z-index: 0;}#sk-container-id-3 div.sk-serial {display: flex;flex-direction: column;align-items: center;background-color: white;padding-right: 0.2em;padding-left: 0.2em;position: relative;}#sk-container-id-3 div.sk-item {position: relative;z-index: 1;}#sk-container-id-3 div.sk-parallel {display: flex;align-items: stretch;justify-content: center;background-color: white;position: relative;}#sk-container-id-3 div.sk-item::before, #sk-container-id-3 div.sk-parallel-item::before {content: \"\";position: absolute;border-left: 1px solid gray;box-sizing: border-box;top: 0;bottom: 0;left: 50%;z-index: -1;}#sk-container-id-3 div.sk-parallel-item {display: flex;flex-direction: column;z-index: 1;position: relative;background-color: white;}#sk-container-id-3 div.sk-parallel-item:first-child::after {align-self: flex-end;width: 50%;}#sk-container-id-3 div.sk-parallel-item:last-child::after {align-self: flex-start;width: 50%;}#sk-container-id-3 div.sk-parallel-item:only-child::after {width: 0;}#sk-container-id-3 div.sk-dashed-wrapped {border: 1px dashed gray;margin: 0 0.4em 0.5em 0.4em;box-sizing: border-box;padding-bottom: 0.4em;background-color: white;}#sk-container-id-3 div.sk-label label {font-family: monospace;font-weight: bold;display: inline-block;line-height: 1.2em;}#sk-container-id-3 div.sk-label-container {text-align: center;}#sk-container-id-3 div.sk-container {/* jupyter's `normalize.less` sets `[hidden] { display: none; }` but bootstrap.min.css set `[hidden] { display: none !important; }` so we also need the `!important` here to be able to override the default hidden behavior on the sphinx rendered scikit-learn.org. See: https://github.com/scikit-learn/scikit-learn/issues/21755 */display: inline-block !important;position: relative;}#sk-container-id-3 div.sk-text-repr-fallback {display: none;}</style><div id=\"sk-container-id-3\" class=\"sk-top-container\"><div class=\"sk-text-repr-fallback\"><pre>LinearRegression()</pre><b>In a Jupyter environment, please rerun this cell to show the HTML representation or trust the notebook. <br />On GitHub, the HTML representation is unable to render, please try loading this page with nbviewer.org.</b></div><div class=\"sk-container\" hidden><div class=\"sk-item\"><div class=\"sk-estimator sk-toggleable\"><input class=\"sk-toggleable__control sk-hidden--visually\" id=\"sk-estimator-id-3\" type=\"checkbox\" checked><label for=\"sk-estimator-id-3\" class=\"sk-toggleable__label sk-toggleable__label-arrow\">LinearRegression</label><div class=\"sk-toggleable__content\"><pre>LinearRegression()</pre></div></div></div></div></div>"
            ]
          },
          "metadata": {},
          "execution_count": 133
        }
      ]
    },
    {
      "cell_type": "code",
      "source": [
        "y2_pred=model.predict(x2)\n",
        "y2_pred"
      ],
      "metadata": {
        "colab": {
          "base_uri": "https://localhost:8080/"
        },
        "id": "dcqXzS38JnVx",
        "outputId": "5a9fe56e-4d97-4891-e798-cd9f87812fcd"
      },
      "execution_count": 135,
      "outputs": [
        {
          "output_type": "execute_result",
          "data": {
            "text/plain": [
              "array([149.70512872, 149.63045392, 149.83251516, 149.69195081,\n",
              "       149.17361981, 149.88522678, 149.43717795, 149.57334965,\n",
              "       149.85447833, 149.99065004, 149.67877291, 149.52063802,\n",
              "       149.56017174, 149.80176671, 149.48549694, 149.76662562,\n",
              "       149.23511671, 149.73587717, 149.64363182, 149.67877291,\n",
              "       149.70073609, 149.70512872, 149.73587717, 149.66120237,\n",
              "       149.85447833, 149.40203686, 149.79737407, 149.95990159,\n",
              "       148.89688376, 149.86326361, 149.85887097, 149.95111632,\n",
              "       149.76662562, 149.5294233 , 149.79298144, 149.95111632,\n",
              "       149.39325159, 149.70952136, 149.54699384, 149.14726399,\n",
              "       149.37568105, 149.65241709, 149.81494461, 149.56895702,\n",
              "       149.31857678, 149.30100624, 149.69634345, 149.59970547,\n",
              "       149.77980353, 149.70073609, 149.6040981 , 149.40203686,\n",
              "       149.71391399, 150.1092512 , 149.62166864, 149.84569306,\n",
              "       149.75344771, 149.58652756, 149.92915314, 149.39764423,\n",
              "       149.56456438, 149.37128841, 149.9115826 , 149.83690779,\n",
              "       149.80176671, 149.92476051, 149.75344771, 149.70073609,\n",
              "       149.76223299, 149.81055198, 149.59531283, 149.73148454,\n",
              "       149.83251516, 149.58213492, 149.79298144, 149.63045392,\n",
              "       149.65241709, 149.75784035, 149.82812252, 149.67438027,\n",
              "       149.63045392, 149.37568105, 149.33175469, 149.4196074 ,\n",
              "       149.56456438, 148.25116632, 149.51185275, 149.86326361,\n",
              "       149.7885888 , 149.63923919, 149.60849074, 149.81933725,\n",
              "       149.74905508, 149.46353376, 150.02579113, 149.73587717,\n",
              "       148.99791438, 149.70512872, 149.3449326 , 149.64802446,\n",
              "       149.65680973, 149.5426012 , 149.87204888, 149.67438027,\n",
              "       149.86765624, 149.80176671, 149.70073609, 149.69195081,\n",
              "       149.65680973, 149.61288337, 149.30100624, 150.17514074,\n",
              "       149.35371787, 149.80176671, 149.57774229, 149.78419616,\n",
              "       149.7885888 , 149.88083415, 149.83251516, 149.66120237,\n",
              "       149.39764423, 149.53820857, 149.55138647, 149.55577911,\n",
              "       149.85447833, 149.80615934, 149.83251516, 149.51185275,\n",
              "       149.86765624, 149.54699384, 149.84569306, 149.53820857,\n",
              "       149.43278531, 149.69634345, 149.38446632, 149.54699384,\n",
              "       149.94672368, 149.81494461, 149.84569306, 149.57334965,\n",
              "       149.43278531, 149.39764423, 149.81055198, 149.74905508,\n",
              "       149.86326361, 149.65241709, 149.665595  , 149.67438027,\n",
              "       149.73587717, 149.93793841, 149.7270919 , 150.07411012,\n",
              "       149.73148454, 149.50746012, 149.76223299, 149.86326361,\n",
              "       149.61727601, 149.88522678, 149.76223299, 149.75784035,\n",
              "       149.67438027, 149.22633143, 150.03896903, 149.95990159,\n",
              "       149.95990159, 149.47231903, 149.72269926, 149.55138647,\n",
              "       149.61288337, 149.83690779, 149.6040981 , 149.72269926,\n",
              "       149.4811043 , 149.74466244, 149.82372989, 149.99504268,\n",
              "       149.71830663, 149.25707988, 149.95111632, 149.51624539,\n",
              "       149.17801244, 149.74026981, 149.27904306, 149.71830663,\n",
              "       149.66120237, 149.45474849, 149.61727601, 149.56017174,\n",
              "       149.70512872, 149.9730795 , 149.38885895, 149.77980353,\n",
              "       149.90279733, 149.48988957, 149.91597523, 149.2966136 ,\n",
              "       149.71391399, 149.61288337, 149.55577911, 149.63923919,\n",
              "       149.86326361, 149.59531283, 149.5426012 , 149.52503066,\n",
              "       150.00822058, 149.60849074, 149.67877291, 149.59531283,\n",
              "       149.90279733, 149.95111632, 149.72269926, 149.58652756,\n",
              "       149.76662562, 149.38007368, 149.63484655, 149.23072407,\n",
              "       149.57334965, 149.27904306, 149.61288337, 149.6040981 ,\n",
              "       148.94081012, 149.77541089, 149.48988957, 149.46353376,\n",
              "       149.67877291, 149.96429423, 149.49428221, 149.85887097,\n",
              "       149.46353376, 149.37128841, 149.66120237, 149.45914112,\n",
              "       149.45914112, 149.64802446, 149.31418415, 149.41521477,\n",
              "       149.41082213, 149.44157058, 149.39325159, 149.48988957,\n",
              "       149.54699384, 149.63484655, 149.79737407, 149.52503066,\n",
              "       149.92036787, 149.52503066, 148.93202484, 149.64802446,\n",
              "       149.48549694, 149.61288337, 149.4196074 , 149.64363182,\n",
              "       149.43717795, 149.41521477, 149.5294233 , 149.37128841,\n",
              "       149.59092019, 149.8500857 , 149.65680973, 149.71391399,\n",
              "       149.7270919 , 149.71830663, 149.48988957, 149.54699384,\n",
              "       149.82372989, 149.79737407, 149.29222097, 150.07411012,\n",
              "       149.47231903, 149.48549694, 149.63484655, 149.70073609,\n",
              "       149.68755818, 149.70073609, 149.52063802, 149.79737407,\n",
              "       149.77101826, 149.58213492, 149.32736205, 149.99943531,\n",
              "       149.3449326 , 149.83251516, 149.77101826, 149.74905508,\n",
              "       149.81933725, 149.36250314, 149.83251516, 149.70952136,\n",
              "       149.25707988, 149.82812252, 149.83690779, 149.33175469,\n",
              "       149.74026981, 149.79737407, 149.9862574 , 149.90718996,\n",
              "       149.86326361, 149.95550896, 149.66998764, 149.56895702,\n",
              "       149.88083415, 150.15317756, 149.69195081])"
            ]
          },
          "metadata": {},
          "execution_count": 135
        }
      ]
    },
    {
      "cell_type": "code",
      "source": [
        "y2"
      ],
      "metadata": {
        "colab": {
          "base_uri": "https://localhost:8080/"
        },
        "id": "WVrmN5X3JtH5",
        "outputId": "85d2f0cc-4cf7-46b7-809e-c5a79dda768f"
      },
      "execution_count": 136,
      "outputs": [
        {
          "output_type": "execute_result",
          "data": {
            "text/plain": [
              "array([150, 187, 172, 178, 163, 148, 153, 173, 162, 174, 160, 139, 171,\n",
              "       144, 162, 158, 172, 114, 171, 151, 161, 179, 178, 137, 178, 162,\n",
              "       157, 123, 157, 152, 168, 140, 188, 152, 125, 160, 170, 165, 148,\n",
              "       151, 142, 180, 148, 143, 182, 172, 180, 156, 115, 160, 149, 151,\n",
              "       146, 175, 172, 158, 186, 185, 174, 159, 130, 156, 190, 132, 165,\n",
              "       182, 143, 175, 170, 163, 147, 154, 202, 186, 165, 161, 166, 164,\n",
              "       184, 154, 179, 170, 160, 178, 122, 160, 151, 156, 158, 122, 175,\n",
              "       168, 169, 159, 138, 111, 157, 147, 162, 173, 178, 145, 179, 194,\n",
              "       163, 115, 131, 152, 162, 159, 154, 173, 133, 161, 155, 170, 168,\n",
              "       162, 172, 152, 122, 182, 172, 167, 179, 192, 143, 172, 169, 121,\n",
              "       163, 162, 162, 153, 163, 163,  96, 140, 126, 105, 157, 181, 173,\n",
              "       142, 116, 143, 149, 171, 169, 150, 138, 125, 155, 152, 152, 131,\n",
              "       179, 174, 144, 163, 169, 166, 182, 173, 173, 108, 129, 160, 147,\n",
              "       155, 142, 168, 160, 173, 132, 114, 160, 158, 120, 112, 132, 114,\n",
              "       169, 165, 128, 153, 144, 109, 163, 158, 142, 131, 113, 142, 155,\n",
              "       140, 147, 163,  99, 158, 177, 141, 111, 150, 145, 161, 142, 157,\n",
              "       139, 162, 150, 140, 140, 146, 144, 136,  97, 132, 127, 150, 154,\n",
              "       111, 174, 133, 126, 125, 103, 130, 159, 131, 152, 124, 145,  96,\n",
              "       109, 173, 171, 170, 162, 156, 112, 143, 132,  88, 105, 166, 150,\n",
              "       120, 195, 146, 122, 143, 106, 125, 125, 147, 130, 126, 154, 182,\n",
              "       165, 160,  95, 169, 108, 132, 117, 126, 116, 103, 144, 145,  71,\n",
              "       156, 118, 168, 105, 141, 152, 125, 125, 156, 134, 181, 138, 120,\n",
              "       162, 164, 143, 130, 161, 140, 146, 150, 144, 144, 136,  90, 123,\n",
              "       132, 141, 115, 174])"
            ]
          },
          "metadata": {},
          "execution_count": 136
        }
      ]
    },
    {
      "cell_type": "code",
      "source": [
        "#CONCLUSION: We have to compare the corresponding values of y and y_pred.\n",
        "#So when we compare , we come to know , that there is a slight difference\n",
        "#This slight difference mean that our model has predicted somewhat correct\n",
        "#It only means , that our model is somewhat/moderately LINEAR\n",
        "#LINEARITY of a model ,depends on the NATURE of the data as well as the SIZE of the data."
      ],
      "metadata": {
        "id": "Ns7UJ8TKJxOd"
      },
      "execution_count": 137,
      "outputs": []
    },
    {
      "cell_type": "code",
      "source": [
        "#Indivisual prediction\n",
        "model.predict([[200]])"
      ],
      "metadata": {
        "colab": {
          "base_uri": "https://localhost:8080/"
        },
        "id": "epjQzZDgJ1aO",
        "outputId": "5b7e556d-a84c-43e8-a420-505e270a3407"
      },
      "execution_count": 138,
      "outputs": [
        {
          "output_type": "execute_result",
          "data": {
            "text/plain": [
              "array([149.8500857])"
            ]
          },
          "metadata": {},
          "execution_count": 138
        }
      ]
    },
    {
      "cell_type": "code",
      "source": [
        "#CROSS VERIFICATION\n",
        "#y2 = m2x2 + C2 #Equation of a Straight line\n",
        "#m2 - Slope\n",
        "#C2 - Constant/y-intercept\n",
        "#y2 - dependant variable\n",
        "#x2 - independant variable"
      ],
      "metadata": {
        "id": "MlIUWErOJ5oq"
      },
      "execution_count": 139,
      "outputs": []
    },
    {
      "cell_type": "code",
      "source": [
        "m2 = model.coef_ #slope(m)\n",
        "m2"
      ],
      "metadata": {
        "colab": {
          "base_uri": "https://localhost:8080/"
        },
        "id": "JQNJHbRqKBTb",
        "outputId": "4d6f3344-e219-4e58-860d-05f1e4bd5794"
      },
      "execution_count": 140,
      "outputs": [
        {
          "output_type": "execute_result",
          "data": {
            "text/plain": [
              "array([-0.00439264])"
            ]
          },
          "metadata": {},
          "execution_count": 140
        }
      ]
    },
    {
      "cell_type": "code",
      "source": [
        "C2 = model.intercept_ # constant/y-intercept\n",
        "C2"
      ],
      "metadata": {
        "colab": {
          "base_uri": "https://localhost:8080/"
        },
        "id": "m7WSVVRyKFH1",
        "outputId": "9d27d927-d639-44c3-f816-67989a71a0e2"
      },
      "execution_count": 141,
      "outputs": [
        {
          "output_type": "execute_result",
          "data": {
            "text/plain": [
              "150.7286128329629"
            ]
          },
          "metadata": {},
          "execution_count": 141
        }
      ]
    },
    {
      "cell_type": "code",
      "source": [
        "#y2 = m2x2 +C2\n",
        "m2*200 + C2"
      ],
      "metadata": {
        "colab": {
          "base_uri": "https://localhost:8080/"
        },
        "id": "cKfp4YkhKJEM",
        "outputId": "bc0fa336-34b3-4c59-9323-35af729dd2a9"
      },
      "execution_count": 142,
      "outputs": [
        {
          "output_type": "execute_result",
          "data": {
            "text/plain": [
              "array([149.8500857])"
            ]
          },
          "metadata": {},
          "execution_count": 142
        }
      ]
    },
    {
      "cell_type": "code",
      "source": [
        "#FINAL VISUALISATION - BEST FIT LINE\n",
        "\n",
        "plt.scatter(x2,y2) #ACTUAL VALUES\n",
        "plt.plot(x2,y2_pred,c = 'orange') #PREDICTED VALUES\n",
        "plt.title('BEST FIT LINE')\n",
        "plt.xlabel('chol')\n",
        "plt.ylabel('thalach')"
      ],
      "metadata": {
        "colab": {
          "base_uri": "https://localhost:8080/",
          "height": 312
        },
        "id": "TpepzGltKRiA",
        "outputId": "e2652324-d5d9-4751-885a-acbe92447660"
      },
      "execution_count": 143,
      "outputs": [
        {
          "output_type": "execute_result",
          "data": {
            "text/plain": [
              "Text(0, 0.5, 'thalach')"
            ]
          },
          "metadata": {},
          "execution_count": 143
        },
        {
          "output_type": "display_data",
          "data": {
            "text/plain": [
              "<Figure size 432x288 with 1 Axes>"
            ],
            "image/png": "[encoded data removed]"
          },
          "metadata": {
            "needs_background": "light"
          }
        }
      ]
    }
  ]
}